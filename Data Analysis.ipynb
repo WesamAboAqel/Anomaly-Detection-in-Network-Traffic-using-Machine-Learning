{
 "cells": [
  {
   "cell_type": "code",
   "execution_count": 3,
   "id": "693bf795",
   "metadata": {},
   "outputs": [],
   "source": [
    "import numpy as np\n",
    "import pandas as pd\n",
    "import matplotlib.pyplot as plt\n",
    "from sklearn.tree import DecisionTreeClassifier, DecisionTreeRegressor\n",
    "from sklearn.model_selection import train_test_split\n",
    "from sklearn.ensemble import RandomForestClassifier\n",
    "from sklearn.metrics import accuracy_score, classification_report, confusion_matrix\n",
    "from sklearn.model_selection import cross_val_score, KFold\n",
    "from sklearn.metrics import make_scorer, precision_score\n",
    "from sklearn.metrics import accuracy_score, precision_score, recall_score, f1_score"
   ]
  },
  {
   "cell_type": "code",
   "execution_count": 150,
   "id": "65f735e7",
   "metadata": {},
   "outputs": [],
   "source": [
    "dataset1 = pd.read_csv(r\"C:\\Users\\user\\Desktop\\Datsets\\5thmay\\MachineLearningCSV\\MachineLearningCVE\\1st.csv\")\n",
    "dataset2 = pd.read_csv(r\"C:\\Users\\user\\Desktop\\Datsets\\5thmay\\MachineLearningCSV\\MachineLearningCVE\\2nd.csv\")\n",
    "dataset3 = pd.read_csv(r\"C:\\Users\\user\\Desktop\\Datsets\\5thmay\\MachineLearningCSV\\MachineLearningCVE\\3rd.csv\")\n",
    "dataset4 = pd.read_csv(r\"C:\\Users\\user\\Desktop\\Datsets\\5thmay\\MachineLearningCSV\\MachineLearningCVE\\4th.csv\")\n",
    "dataset5 = pd.read_csv(r\"C:\\Users\\user\\Desktop\\Datsets\\5thmay\\MachineLearningCSV\\MachineLearningCVE\\5th.csv\")\n",
    "dataset6 = pd.read_csv(r\"C:\\Users\\user\\Desktop\\Datsets\\5thmay\\MachineLearningCSV\\MachineLearningCVE\\6th.csv\")\n",
    "dataset7 = pd.read_csv(r\"C:\\Users\\user\\Desktop\\Datsets\\5thmay\\MachineLearningCSV\\MachineLearningCVE\\7th.csv\")\n",
    "dataset8 = pd.read_csv(r\"C:\\Users\\user\\Desktop\\Datsets\\5thmay\\MachineLearningCSV\\MachineLearningCVE\\8th.csv\")\n"
   ]
  },
  {
   "cell_type": "code",
   "execution_count": 151,
   "id": "26114be7",
   "metadata": {},
   "outputs": [],
   "source": [
    "FullDataset = pd.concat([dataset1,dataset2,dataset3,dataset4,dataset5,dataset6,dataset7,dataset8], ignore_index=True)\n",
    "#print(FullDataset.head())\n",
    "FullDataset.duplicated().sum()\n",
    "FullDataset.drop_duplicates(inplace=True)"
   ]
  },
  {
   "cell_type": "code",
   "execution_count": 39,
   "id": "2fe9ee7f",
   "metadata": {
    "scrolled": true
   },
   "outputs": [
    {
     "name": "stdout",
     "output_type": "stream",
     "text": [
      "['BENIGN' 'DDoS' 'PortScan' 'Bot' 'Infiltration'\n",
      " 'Web Attack � Brute Force' 'Web Attack � XSS'\n",
      " 'Web Attack � Sql Injection' 'FTP-Patator' 'SSH-Patator' 'DoS slowloris'\n",
      " 'DoS Slowhttptest' 'DoS Hulk' 'DoS GoldenEye' 'Heartbleed']\n"
     ]
    }
   ],
   "source": [
    "Attacks = FullDataset['Category'].unique()\n",
    "print(Attacks)"
   ]
  },
  {
   "cell_type": "code",
   "execution_count": 147,
   "id": "4471879a",
   "metadata": {},
   "outputs": [],
   "source": [
    "FullDataset.to_csv('FullDataset.csv', index=False)\n",
    "#print(FullDataset.columns)"
   ]
  },
  {
   "cell_type": "code",
   "execution_count": null,
   "id": "7335270a",
   "metadata": {},
   "outputs": [],
   "source": [
    "numberofrows= 5\n",
    "numberofcolumns = 18\n",
    "fig , axes = plt.subplots(numberofrows, numberofcolumns, figsize=(30,30))\n",
    "\n",
    "axes = axes.flatten()\n",
    "\n",
    "xaxes = ' Label'\n",
    "labelvalues = FullDataset[xaxes]\n",
    "\n",
    "featurenames = FullDataset.columns\n",
    "\n",
    "for i , feature in enumerate(featurenames):\n",
    "    ax = axes[i]\n",
    "    ax.scatter(labelvalues, FullDataset[feature], alpha=0.5)\n",
    "    ax.set_xlabel('Label')\n",
    "    ax.set_ylabel(feature)\n",
    "    ax.set_title(f'Scatter plot of {feature} vs {xaxes}')\n",
    "    ax.set_xticks([0, 1])\n",
    "    ax.set_xlim(-0.5, 1.5)\n",
    "    \n",
    "    \n",
    "plt.tight_layout()\n",
    "plt.savefig('scatter_plots.png')\n",
    "plt.show()"
   ]
  },
  {
   "cell_type": "code",
   "execution_count": 159,
   "id": "f5f03ac5",
   "metadata": {},
   "outputs": [],
   "source": [
    "FullDataset.rename(columns={' Label': 'Category'}, inplace=True)\n",
    "FullDataset['Label'] = FullDataset['Category'].apply(lambda x: 0 if 'BENIGN' in x else 1)"
   ]
  },
  {
   "cell_type": "code",
   "execution_count": null,
   "id": "4d2770bb",
   "metadata": {},
   "outputs": [],
   "source": [
    "print(FullDataset.head(15))"
   ]
  },
  {
   "cell_type": "code",
   "execution_count": 153,
   "id": "10306e68",
   "metadata": {},
   "outputs": [],
   "source": [
    "droppedcolumnsforclassifications = [' Destination Port', ' Flow Duration' , 'Total Length of Fwd Packets',\\\n",
    "                                   'Flow Bytes/s', ' Flow Packets/s',' Flow IAT Mean', ' Flow IAT Std', \\\n",
    "                                    ' Flow IAT Max', ' Flow IAT Min','Fwd IAT Total', ' Fwd IAT Mean', \\\n",
    "                                    ' Fwd IAT Std', ' Fwd IAT Max',' Fwd IAT Min', 'Bwd IAT Total',\\\n",
    "                                    ' Bwd IAT Mean', ' Bwd IAT Std',' Bwd IAT Max',' Bwd IAT Min',\\\n",
    "                                    'Fwd PSH Flags', ' Bwd PSH Flags',' Bwd URG Flags','Fwd Packets/s',\\\n",
    "                                    ' Max Packet Length',' Packet Length Std',' Packet Length Variance',\\\n",
    "                                    'FIN Flag Count',' SYN Flag Count',' PSH Flag Count',' ACK Flag Count',\\\n",
    "                                    ' URG Flag Count', 'Fwd Avg Bytes/Bulk', ' Fwd Avg Packets/Bulk',\\\n",
    "                                    'Bwd Avg Bulk Rate',' Bwd Avg Packets/Bulk','Idle Mean',' Idle Std',\\\n",
    "                                    ' Idle Min']\n",
    "\n",
    "ClassDataset = FullDataset.drop(droppedcolumnsforclassifications, axis=1)"
   ]
  },
  {
   "cell_type": "code",
   "execution_count": 154,
   "id": "2c0b0f92",
   "metadata": {},
   "outputs": [
    {
     "name": "stdout",
     "output_type": "stream",
     "text": [
      "Index([' Total Fwd Packets', ' Total Backward Packets',\n",
      "       ' Total Length of Bwd Packets', ' Fwd Packet Length Max',\n",
      "       ' Fwd Packet Length Min', ' Fwd Packet Length Mean',\n",
      "       ' Fwd Packet Length Std', 'Bwd Packet Length Max',\n",
      "       ' Bwd Packet Length Min', ' Bwd Packet Length Mean',\n",
      "       ' Bwd Packet Length Std', ' Fwd URG Flags', ' Fwd Header Length',\n",
      "       ' Bwd Header Length', ' Bwd Packets/s', ' Min Packet Length',\n",
      "       ' Packet Length Mean', ' RST Flag Count', ' CWE Flag Count',\n",
      "       ' ECE Flag Count', ' Down/Up Ratio', ' Average Packet Size',\n",
      "       ' Avg Fwd Segment Size', ' Avg Bwd Segment Size',\n",
      "       ' Fwd Header Length.1', ' Fwd Avg Bulk Rate', ' Bwd Avg Bytes/Bulk',\n",
      "       'Subflow Fwd Packets', ' Subflow Fwd Bytes', ' Subflow Bwd Packets',\n",
      "       ' Subflow Bwd Bytes', 'Init_Win_bytes_forward',\n",
      "       ' Init_Win_bytes_backward', ' act_data_pkt_fwd',\n",
      "       ' min_seg_size_forward', 'Active Mean', ' Active Std', ' Active Max',\n",
      "       ' Active Min', ' Idle Max', 'Category', 'Label'],\n",
      "      dtype='object')\n"
     ]
    }
   ],
   "source": [
    "print(ClassDataset.columns)"
   ]
  },
  {
   "cell_type": "code",
   "execution_count": 30,
   "id": "a396adb3",
   "metadata": {},
   "outputs": [],
   "source": [
    "ClassDataset.to_csv('ClassDataset.csv', index=False)"
   ]
  },
  {
   "cell_type": "code",
   "execution_count": 41,
   "id": "276ef9a0",
   "metadata": {},
   "outputs": [],
   "source": [
    "BenignDataset = FullDataset[FullDataset['Category'].str.contains('BENIGN', case=False)]\n",
    "BenignDataset.to_csv('BenignDataset.csv', index=False)\n",
    "BenignTrainset, BenignTestset = train_test_split(BenignDataset, test_size=0.2, random_state=42)\n",
    "BenignTrainset.to_csv('BenignTrainset.csv', index=False)\n",
    "BenignTestset.to_csv('BenignTestset.csv', index=False)"
   ]
  },
  {
   "cell_type": "code",
   "execution_count": 43,
   "id": "c84fae5f",
   "metadata": {},
   "outputs": [],
   "source": [
    "DDosDataset = FullDataset[FullDataset['Category'].str.contains('DDos', case=False)]\n",
    "DDosDataset.to_csv('DDosDataset.csv', index=False)\n",
    "DDosTrainset, DDosTestset = train_test_split(DDosDataset, test_size=0.2, random_state=42)\n",
    "DDosTrainset.to_csv('DDosTrainset.csv', index=False)\n",
    "DDosTestset.to_csv('DDosTestset.csv', index=False)"
   ]
  },
  {
   "cell_type": "code",
   "execution_count": 44,
   "id": "85788d6e",
   "metadata": {},
   "outputs": [],
   "source": [
    "categories = ['BENIGN', 'DDoS', 'PortScan', 'Bot', 'Infiltration',\n",
    "              'Web Attack � Brute Force', 'Web Attack � XSS',\n",
    "              'Web Attack � Sql Injection', 'FTP-Patator', 'SSH-Patator',\n",
    "              'DoS slowloris', 'DoS Slowhttptest', 'DoS Hulk', 'DoS GoldenEye',\n",
    "              'Heartbleed']\n",
    "\n",
    "for category in categories:\n",
    "   \n",
    "    category_dataset = FullDataset[FullDataset['Category'].str.contains(category, case=False)]\n",
    "    category_dataset.to_csv(f'{category}Dataset.csv', index=False)\n",
    "    category_trainset, category_testset = train_test_split(category_dataset, test_size=0.2, random_state=42)\n",
    "    category_trainset.to_csv(f'{category}Trainset.csv', index=False)\n",
    "    category_testset.to_csv(f'{category}Testset.csv', index=False)"
   ]
  },
  {
   "cell_type": "code",
   "execution_count": 46,
   "id": "09b83f61",
   "metadata": {},
   "outputs": [],
   "source": [
    "\n",
    "training_files = ['BENIGNTrainset.csv', 'DDosTrainset.csv', 'PortScanTrainset.csv', \n",
    "                  'BotTrainset.csv', 'InfiltrationTrainset.csv', 'WebAttackBruteForceTrainset.csv',\n",
    "                  'WebAttackXSSTrainset.csv', 'WebAttackSqlInjectionTrainset.csv', 'FTPPatatorTrainset.csv',\n",
    "                  'SSHPatatorTrainset.csv', 'DoSslowlorisTrainset.csv', 'DoSSlowhttptestTrainset.csv',\n",
    "                  'DoSHulkTrainset.csv', 'DoSGoldenEyeTrainset.csv', 'HeartbleedTrainset.csv']\n",
    "\n",
    "testing_files = ['BENIGNTestset.csv', 'DDosTestset.csv', 'PortScanTestset.csv', \n",
    "                 'BotTestset.csv', 'InfiltrationTestset.csv', 'WebAttackBruteForceTestset.csv',\n",
    "                 'WebAttackXSSTestset.csv', 'WebAttackSqlInjectionTestset.csv', 'FTPPatatorTestset.csv',\n",
    "                 'SSHPatatorTestset.csv', 'DoSslowlorisTestset.csv', 'DoSSlowhttptestTestset.csv',\n",
    "                 'DoSHulkTestset.csv', 'DoSGoldenEyeTestset.csv', 'HeartbleedTestset.csv']\n",
    "\n",
    "\n",
    "training_sets = [pd.read_csv(file) for file in training_files]\n",
    "testing_sets = [pd.read_csv(file) for file in testing_files]\n",
    "\n",
    "\n",
    "training_data = pd.concat(training_sets, ignore_index=True)\n",
    "testing_data = pd.concat(testing_sets, ignore_index=True)\n",
    "\n",
    "\n",
    "training_data.to_csv('TrainDataset.csv', index=False)\n",
    "testing_data.to_csv('TestDataset.csv', index=False)\n"
   ]
  },
  {
   "cell_type": "code",
   "execution_count": 4,
   "id": "7d8ed428",
   "metadata": {},
   "outputs": [],
   "source": [
    "TrainDataset = pd.read_csv(\"TrainDataset.csv\")\n",
    "TestDataset = pd.read_csv(\"TestDataset.csv\")\n",
    "\n",
    "\n",
    "droppedcolumnsforclassifications = [' Destination Port', ' Flow Duration' , 'Total Length of Fwd Packets',\\\n",
    "                                   'Flow Bytes/s', ' Flow Packets/s',' Flow IAT Mean', ' Flow IAT Std', \\\n",
    "                                    ' Flow IAT Max', ' Flow IAT Min','Fwd IAT Total', ' Fwd IAT Mean', \\\n",
    "                                    ' Fwd IAT Std', ' Fwd IAT Max',' Fwd IAT Min', 'Bwd IAT Total',\\\n",
    "                                    ' Bwd IAT Mean', ' Bwd IAT Std',' Bwd IAT Max',' Bwd IAT Min',\\\n",
    "                                    'Fwd PSH Flags', ' Bwd PSH Flags',' Bwd URG Flags','Fwd Packets/s',\\\n",
    "                                    ' Max Packet Length',' Packet Length Std',' Packet Length Variance',\\\n",
    "                                    'FIN Flag Count',' SYN Flag Count',' PSH Flag Count',' ACK Flag Count',\\\n",
    "                                    ' URG Flag Count', 'Fwd Avg Bytes/Bulk', ' Fwd Avg Packets/Bulk',\\\n",
    "                                    'Bwd Avg Bulk Rate',' Bwd Avg Packets/Bulk','Idle Mean',' Idle Std',\\\n",
    "                                    ' Idle Min', 'Category']\n",
    "\n",
    "ClassTrainDataset = TrainDataset.drop(droppedcolumnsforclassifications, axis=1)\n",
    "ClassTestDataset = TestDataset.drop(droppedcolumnsforclassifications, axis=1)\n",
    "\n",
    "ClassTrainDataset.to_csv('ClassTrainDataset.csv', index=False)\n",
    "ClassTestDataset.to_csv('ClassTestDataset.csv', index=False)"
   ]
  },
  {
   "cell_type": "code",
   "execution_count": 6,
   "id": "2f2d68d3",
   "metadata": {},
   "outputs": [
    {
     "name": "stdout",
     "output_type": "stream",
     "text": [
      "Counts of each unique value in the 'Label' column:\n",
      "0    1331871\n",
      "1     239418\n",
      "Name: Label, dtype: int64\n",
      "Counts of each unique value in the 'Label' column:\n",
      "0    359834\n",
      "1     60892\n",
      "Name: Label, dtype: int64\n"
     ]
    }
   ],
   "source": [
    "ClassTrainDataset.duplicated().sum()\n",
    "ClassTrainDataset.drop_duplicates(inplace=True)\n",
    "ClassTestDataset.duplicated().sum()\n",
    "ClassTestDataset.drop_duplicates(inplace=True)\n",
    "\n",
    "\n",
    "#ClassTrainDataset.isnull().sum()\n",
    "\n",
    "label_counts = ClassTrainDataset['Label'].value_counts()\n",
    "\n",
    "# Print the counts\n",
    "print(\"Counts of each unique value in the 'Label' column:\")\n",
    "print(label_counts)\n",
    "\n",
    "label_counts = ClassTestDataset['Label'].value_counts()\n",
    "\n",
    "# Print the counts\n",
    "print(\"Counts of each unique value in the 'Label' column:\")\n",
    "print(label_counts)"
   ]
  },
  {
   "cell_type": "code",
   "execution_count": 7,
   "id": "3a5cd97d",
   "metadata": {},
   "outputs": [],
   "source": [
    "ClassTrainDataset.to_csv(\"ClassTrainDataset.csv\", index = False)\n",
    "ClassTestDataset.to_csv('ClassTestDataset.csv', index=False)"
   ]
  },
  {
   "cell_type": "code",
   "execution_count": 168,
   "id": "91ec6f6e",
   "metadata": {},
   "outputs": [
    {
     "name": "stdout",
     "output_type": "stream",
     "text": [
      "2264586\n",
      "2264586\n",
      "566157\n",
      "566157\n"
     ]
    }
   ],
   "source": [
    "DetectionModel = RandomForestClassifier(n_estimators=100, random_state=42)\n",
    "\n",
    "X_train = ClassTrainDataset.drop(columns=['Label'])\n",
    "\n",
    "y_train = ClassTrainDataset['Label']\n",
    "\n",
    "X_test = ClassTestDataset.drop(columns=['Label'])\n",
    "\n",
    "y_test = ClassTestDataset['Label']\n"
   ]
  },
  {
   "cell_type": "code",
   "execution_count": 70,
   "id": "eb75b68f",
   "metadata": {},
   "outputs": [
    {
     "data": {
      "text/html": [
       "<style>#sk-container-id-1 {color: black;background-color: white;}#sk-container-id-1 pre{padding: 0;}#sk-container-id-1 div.sk-toggleable {background-color: white;}#sk-container-id-1 label.sk-toggleable__label {cursor: pointer;display: block;width: 100%;margin-bottom: 0;padding: 0.3em;box-sizing: border-box;text-align: center;}#sk-container-id-1 label.sk-toggleable__label-arrow:before {content: \"▸\";float: left;margin-right: 0.25em;color: #696969;}#sk-container-id-1 label.sk-toggleable__label-arrow:hover:before {color: black;}#sk-container-id-1 div.sk-estimator:hover label.sk-toggleable__label-arrow:before {color: black;}#sk-container-id-1 div.sk-toggleable__content {max-height: 0;max-width: 0;overflow: hidden;text-align: left;background-color: #f0f8ff;}#sk-container-id-1 div.sk-toggleable__content pre {margin: 0.2em;color: black;border-radius: 0.25em;background-color: #f0f8ff;}#sk-container-id-1 input.sk-toggleable__control:checked~div.sk-toggleable__content {max-height: 200px;max-width: 100%;overflow: auto;}#sk-container-id-1 input.sk-toggleable__control:checked~label.sk-toggleable__label-arrow:before {content: \"▾\";}#sk-container-id-1 div.sk-estimator input.sk-toggleable__control:checked~label.sk-toggleable__label {background-color: #d4ebff;}#sk-container-id-1 div.sk-label input.sk-toggleable__control:checked~label.sk-toggleable__label {background-color: #d4ebff;}#sk-container-id-1 input.sk-hidden--visually {border: 0;clip: rect(1px 1px 1px 1px);clip: rect(1px, 1px, 1px, 1px);height: 1px;margin: -1px;overflow: hidden;padding: 0;position: absolute;width: 1px;}#sk-container-id-1 div.sk-estimator {font-family: monospace;background-color: #f0f8ff;border: 1px dotted black;border-radius: 0.25em;box-sizing: border-box;margin-bottom: 0.5em;}#sk-container-id-1 div.sk-estimator:hover {background-color: #d4ebff;}#sk-container-id-1 div.sk-parallel-item::after {content: \"\";width: 100%;border-bottom: 1px solid gray;flex-grow: 1;}#sk-container-id-1 div.sk-label:hover label.sk-toggleable__label {background-color: #d4ebff;}#sk-container-id-1 div.sk-serial::before {content: \"\";position: absolute;border-left: 1px solid gray;box-sizing: border-box;top: 0;bottom: 0;left: 50%;z-index: 0;}#sk-container-id-1 div.sk-serial {display: flex;flex-direction: column;align-items: center;background-color: white;padding-right: 0.2em;padding-left: 0.2em;position: relative;}#sk-container-id-1 div.sk-item {position: relative;z-index: 1;}#sk-container-id-1 div.sk-parallel {display: flex;align-items: stretch;justify-content: center;background-color: white;position: relative;}#sk-container-id-1 div.sk-item::before, #sk-container-id-1 div.sk-parallel-item::before {content: \"\";position: absolute;border-left: 1px solid gray;box-sizing: border-box;top: 0;bottom: 0;left: 50%;z-index: -1;}#sk-container-id-1 div.sk-parallel-item {display: flex;flex-direction: column;z-index: 1;position: relative;background-color: white;}#sk-container-id-1 div.sk-parallel-item:first-child::after {align-self: flex-end;width: 50%;}#sk-container-id-1 div.sk-parallel-item:last-child::after {align-self: flex-start;width: 50%;}#sk-container-id-1 div.sk-parallel-item:only-child::after {width: 0;}#sk-container-id-1 div.sk-dashed-wrapped {border: 1px dashed gray;margin: 0 0.4em 0.5em 0.4em;box-sizing: border-box;padding-bottom: 0.4em;background-color: white;}#sk-container-id-1 div.sk-label label {font-family: monospace;font-weight: bold;display: inline-block;line-height: 1.2em;}#sk-container-id-1 div.sk-label-container {text-align: center;}#sk-container-id-1 div.sk-container {/* jupyter's `normalize.less` sets `[hidden] { display: none; }` but bootstrap.min.css set `[hidden] { display: none !important; }` so we also need the `!important` here to be able to override the default hidden behavior on the sphinx rendered scikit-learn.org. See: https://github.com/scikit-learn/scikit-learn/issues/21755 */display: inline-block !important;position: relative;}#sk-container-id-1 div.sk-text-repr-fallback {display: none;}</style><div id=\"sk-container-id-1\" class=\"sk-top-container\"><div class=\"sk-text-repr-fallback\"><pre>RandomForestClassifier(random_state=42)</pre><b>In a Jupyter environment, please rerun this cell to show the HTML representation or trust the notebook. <br />On GitHub, the HTML representation is unable to render, please try loading this page with nbviewer.org.</b></div><div class=\"sk-container\" hidden><div class=\"sk-item\"><div class=\"sk-estimator sk-toggleable\"><input class=\"sk-toggleable__control sk-hidden--visually\" id=\"sk-estimator-id-1\" type=\"checkbox\" checked><label for=\"sk-estimator-id-1\" class=\"sk-toggleable__label sk-toggleable__label-arrow\">RandomForestClassifier</label><div class=\"sk-toggleable__content\"><pre>RandomForestClassifier(random_state=42)</pre></div></div></div></div></div>"
      ],
      "text/plain": [
       "RandomForestClassifier(random_state=42)"
      ]
     },
     "execution_count": 70,
     "metadata": {},
     "output_type": "execute_result"
    }
   ],
   "source": [
    "clf.fit(X_train, y_train)"
   ]
  },
  {
   "cell_type": "code",
   "execution_count": 71,
   "id": "395309c3",
   "metadata": {},
   "outputs": [
    {
     "name": "stdout",
     "output_type": "stream",
     "text": [
      "420726\n",
      "420726\n"
     ]
    }
   ],
   "source": []
  },
  {
   "cell_type": "code",
   "execution_count": 73,
   "id": "c141c465",
   "metadata": {},
   "outputs": [
    {
     "name": "stdout",
     "output_type": "stream",
     "text": [
      "Accuracy: 0.9978109268264856\n"
     ]
    }
   ],
   "source": [
    "y_pred = clf.predict(X_test)\n",
    "accuracy = accuracy_score(y_test, y_pred)\n",
    "print(\"Accuracy:\", accuracy)"
   ]
  },
  {
   "cell_type": "code",
   "execution_count": 75,
   "id": "250fe261",
   "metadata": {},
   "outputs": [
    {
     "name": "stdout",
     "output_type": "stream",
     "text": [
      "Precision Score: 0.9978100513782959\n"
     ]
    }
   ],
   "source": [
    "precision = precision_score(y_test, y_pred, average='weighted')\n",
    "\n",
    "print(\"Precision Score:\", precision)"
   ]
  },
  {
   "cell_type": "code",
   "execution_count": 80,
   "id": "06bc6d34",
   "metadata": {},
   "outputs": [
    {
     "name": "stdout",
     "output_type": "stream",
     "text": [
      "Cross-validation scores: [0.99779799 0.997903   0.99781072 0.99769934 0.99772161]\n",
      "Mean cross-validation score: 0.9977865306350896\n"
     ]
    }
   ],
   "source": [
    "k_fold = KFold(n_splits=5, shuffle=True, random_state=42)\n",
    "# Assuming X_train and y_train are your training features and labels\n",
    "scores = cross_val_score(clf, X_train, y_train, cv=k_fold, scoring='precision')\n",
    "print(\"Cross-validation scores:\", scores)\n",
    "print(\"Mean cross-validation score:\", scores.mean())"
   ]
  },
  {
   "cell_type": "code",
   "execution_count": 86,
   "id": "8b86bfbd",
   "metadata": {},
   "outputs": [
    {
     "name": "stdout",
     "output_type": "stream",
     "text": [
      "Accuracy: 0.9978109268264856\n",
      "Precision: 0.9929636510102422\n",
      "Recall: 0.9919036983511791\n",
      "F1-score: 0.9924333916644074\n"
     ]
    }
   ],
   "source": [
    "#Compute accuracy\n",
    "accuracy = accuracy_score(y_test, y_pred)\n",
    "print(\"Accuracy:\", accuracy)\n",
    "\n",
    "# Compute precision\n",
    "precision = precision_score(y_test, y_pred, average='binary')\n",
    "print(\"Precision:\", precision)\n",
    "\n",
    "# Compute recall\n",
    "recall = recall_score(y_test, y_pred, average='binary')\n",
    "print(\"Recall:\", recall)\n",
    "\n",
    "# Compute F1-score\n",
    "f1 = f1_score(y_test, y_pred, average='binary')\n",
    "print(\"F1-score:\", f1)"
   ]
  },
  {
   "cell_type": "code",
   "execution_count": 21,
   "id": "3b6539fe",
   "metadata": {},
   "outputs": [],
   "source": [
    "FullDataset.rename(columns={'Flow Bytes/s': 'FlowBytes'}, inplace=True)\n",
    "FullDataset.rename(columns={' Down/Up Ratio': ' Down Up Ratio'}, inplace=True)\n",
    "FullDataset.rename(columns={' Flow Packets/s': 'FlowPackets'}, inplace=True)\n",
    "FullDataset.rename(columns={'Fwd Packets/s': 'FwdPackets'}, inplace=True)\n",
    "FullDataset.rename(columns={' Bwd Packets/s': 'BwdPackets'}, inplace=True)\n",
    "FullDataset.rename(columns={'Fwd Avg Bytes/Bulk': 'Fwd Avg Bytes Bulk'}, inplace=True)\n",
    "FullDataset.rename(columns={' Fwd Avg Packets/Bulk': 'Fwd Avg Packets Bulk'}, inplace=True)\n",
    "FullDataset.rename(columns={' Bwd Avg Bytes/Bulk': 'Bwd Avg Bytes Bulk'}, inplace=True)\n",
    "FullDataset.rename(columns={' Bwd Avg Packets/Bulk': 'Bwd Avg Packets Bulk'}, inplace=True)\n"
   ]
  },
  {
   "cell_type": "code",
   "execution_count": 22,
   "id": "5793a003",
   "metadata": {},
   "outputs": [
    {
     "name": "stdout",
     "output_type": "stream",
     "text": [
      "Index([' Destination Port', ' Flow Duration', ' Total Fwd Packets',\n",
      "       ' Total Backward Packets', 'Total Length of Fwd Packets',\n",
      "       ' Total Length of Bwd Packets', ' Fwd Packet Length Max',\n",
      "       ' Fwd Packet Length Min', ' Fwd Packet Length Mean',\n",
      "       ' Fwd Packet Length Std', 'Bwd Packet Length Max',\n",
      "       ' Bwd Packet Length Min', ' Bwd Packet Length Mean',\n",
      "       ' Bwd Packet Length Std', 'FlowBytes', 'FlowPackets', ' Flow IAT Mean',\n",
      "       ' Flow IAT Std', ' Flow IAT Max', ' Flow IAT Min', 'Fwd IAT Total',\n",
      "       ' Fwd IAT Mean', ' Fwd IAT Std', ' Fwd IAT Max', ' Fwd IAT Min',\n",
      "       'Bwd IAT Total', ' Bwd IAT Mean', ' Bwd IAT Std', ' Bwd IAT Max',\n",
      "       ' Bwd IAT Min', 'Fwd PSH Flags', ' Bwd PSH Flags', ' Fwd URG Flags',\n",
      "       ' Bwd URG Flags', ' Fwd Header Length', ' Bwd Header Length',\n",
      "       'FwdPackets', 'BwdPackets', ' Min Packet Length', ' Max Packet Length',\n",
      "       ' Packet Length Mean', ' Packet Length Std', ' Packet Length Variance',\n",
      "       'FIN Flag Count', ' SYN Flag Count', ' RST Flag Count',\n",
      "       ' PSH Flag Count', ' ACK Flag Count', ' URG Flag Count',\n",
      "       ' CWE Flag Count', ' ECE Flag Count', ' Down Up Ratio',\n",
      "       ' Average Packet Size', ' Avg Fwd Segment Size',\n",
      "       ' Avg Bwd Segment Size', ' Fwd Header Length.1', 'Fwd Avg Bytes Bulk',\n",
      "       'Fwd Avg Packets Bulk', ' Fwd Avg Bulk Rate', 'Bwd Avg Bytes Bulk',\n",
      "       'Bwd Avg Packets Bulk', 'Bwd Avg Bulk Rate', 'Subflow Fwd Packets',\n",
      "       ' Subflow Fwd Bytes', ' Subflow Bwd Packets', ' Subflow Bwd Bytes',\n",
      "       'Init_Win_bytes_forward', ' Init_Win_bytes_backward',\n",
      "       ' act_data_pkt_fwd', ' min_seg_size_forward', 'Active Mean',\n",
      "       ' Active Std', ' Active Max', ' Active Min', 'Idle Mean', ' Idle Std',\n",
      "       ' Idle Max', ' Idle Min', 'Category', 'Label'],\n",
      "      dtype='object')\n"
     ]
    }
   ],
   "source": [
    "print(FullDataset.columns)"
   ]
  },
  {
   "cell_type": "code",
   "execution_count": 23,
   "id": "6f02f8f4",
   "metadata": {},
   "outputs": [],
   "source": [
    "features_to_plot = FullDataset.columns.tolist()\n",
    "\n",
    "for feature in features_to_plot:\n",
    "    # Create a new figure\n",
    "    plt.figure(figsize=(10, 6))  # Adjust figsize as needed\n",
    "\n",
    "    # Plot data\n",
    "    plt.scatter(FullDataset['Category'], FullDataset[feature], alpha=0.5)\n",
    "\n",
    "    # Set labels and title\n",
    "    plt.xlabel('Category')\n",
    "    plt.ylabel(feature)\n",
    "    plt.title(f'Graph for {feature}')\n",
    "\n",
    "    # Rotate x-axis labels to avoid overlapping\n",
    "    plt.xticks(rotation=45, ha='right')\n",
    "\n",
    "    # Save the plot as a PNG file\n",
    "    plt.savefig(f'plots/{feature}_graph.png')\n",
    "\n",
    "    # Show the plot\n",
    "    plt.close()"
   ]
  },
  {
   "cell_type": "code",
   "execution_count": 26,
   "id": "34e83394",
   "metadata": {},
   "outputs": [],
   "source": [
    "training_files = [\n",
    "    'DDosTrainset.csv', 'PortScanTrainset.csv', 'BotTrainset.csv', \n",
    "    'InfiltrationTrainset.csv', 'FTPPatatorTrainset.csv', \n",
    "    'SSHPatatorTrainset.csv', 'DoSslowlorisTrainset.csv', \n",
    "    'DoSSlowhttptestTrainset.csv', 'DoSHulkTrainset.csv', \n",
    "    'DoSGoldenEyeTrainset.csv']\n",
    "\n",
    "testing_files = [\n",
    "    'DDosTestset.csv', 'PortScanTestset.csv', 'BotTestset.csv', \n",
    "    'InfiltrationTestset.csv', 'FTPPatatorTestset.csv', \n",
    "    'SSHPatatorTestset.csv', 'DoSslowlorisTestset.csv', \n",
    "    'DoSSlowhttptestTestset.csv', 'DoSHulkTestset.csv', \n",
    "    'DoSGoldenEyeTestset.csv']\n",
    "\n",
    "\n",
    "training_sets = [pd.read_csv(f'Sets/Seperated/Training/{file}') for file in training_files]\n",
    "testing_sets = [pd.read_csv(f'Sets/Seperated/Test/{file}') for file in testing_files]\n",
    "\n",
    "\n",
    "training_data = pd.concat(training_sets, ignore_index=True)\n",
    "testing_data = pd.concat(testing_sets, ignore_index=True)"
   ]
  },
  {
   "cell_type": "code",
   "execution_count": 29,
   "id": "b3e7852d",
   "metadata": {},
   "outputs": [
    {
     "name": "stdout",
     "output_type": "stream",
     "text": [
      "Index([' Destination Port', ' Flow Duration', ' Total Fwd Packets',\n",
      "       ' Total Backward Packets', 'Total Length of Fwd Packets',\n",
      "       ' Total Length of Bwd Packets', ' Fwd Packet Length Max',\n",
      "       ' Fwd Packet Length Min', ' Fwd Packet Length Mean',\n",
      "       ' Fwd Packet Length Std', 'Bwd Packet Length Max',\n",
      "       ' Bwd Packet Length Min', ' Bwd Packet Length Mean',\n",
      "       ' Bwd Packet Length Std', 'Flow Bytes/s', ' Flow Packets/s',\n",
      "       ' Flow IAT Mean', ' Flow IAT Std', ' Flow IAT Max', ' Flow IAT Min',\n",
      "       'Fwd IAT Total', ' Fwd IAT Mean', ' Fwd IAT Std', ' Fwd IAT Max',\n",
      "       ' Fwd IAT Min', 'Bwd IAT Total', ' Bwd IAT Mean', ' Bwd IAT Std',\n",
      "       ' Bwd IAT Max', ' Bwd IAT Min', 'Fwd PSH Flags', ' Bwd PSH Flags',\n",
      "       ' Fwd URG Flags', ' Bwd URG Flags', ' Fwd Header Length',\n",
      "       ' Bwd Header Length', 'Fwd Packets/s', ' Bwd Packets/s',\n",
      "       ' Min Packet Length', ' Max Packet Length', ' Packet Length Mean',\n",
      "       ' Packet Length Std', ' Packet Length Variance', 'FIN Flag Count',\n",
      "       ' SYN Flag Count', ' RST Flag Count', ' PSH Flag Count',\n",
      "       ' ACK Flag Count', ' URG Flag Count', ' CWE Flag Count',\n",
      "       ' ECE Flag Count', ' Down/Up Ratio', ' Average Packet Size',\n",
      "       ' Avg Fwd Segment Size', ' Avg Bwd Segment Size',\n",
      "       ' Fwd Header Length.1', 'Fwd Avg Bytes/Bulk', ' Fwd Avg Packets/Bulk',\n",
      "       ' Fwd Avg Bulk Rate', ' Bwd Avg Bytes/Bulk', ' Bwd Avg Packets/Bulk',\n",
      "       'Bwd Avg Bulk Rate', 'Subflow Fwd Packets', ' Subflow Fwd Bytes',\n",
      "       ' Subflow Bwd Packets', ' Subflow Bwd Bytes', 'Init_Win_bytes_forward',\n",
      "       ' Init_Win_bytes_backward', ' act_data_pkt_fwd',\n",
      "       ' min_seg_size_forward', 'Active Mean', ' Active Std', ' Active Max',\n",
      "       ' Active Min', 'Idle Mean', ' Idle Std', ' Idle Max', ' Idle Min',\n",
      "       'Category', 'Label'],\n",
      "      dtype='object')\n"
     ]
    }
   ],
   "source": [
    "training_data.duplicated().sum()\n",
    "training_data.drop_duplicates(inplace=True)\n",
    "testing_data.duplicated().sum()\n",
    "testing_data.drop_duplicates(inplace=True)\n",
    "print(training_data.columns)"
   ]
  },
  {
   "cell_type": "code",
   "execution_count": 157,
   "id": "7f957f64",
   "metadata": {},
   "outputs": [],
   "source": [
    "droppedcolumnsforclassifications = [' Total Fwd Packets',' Total Backward Packets', \n",
    "                                    ' Total Length of Bwd Packets',' Bwd Packet Length Min',\n",
    "                                    'Fwd PSH Flags',' Bwd PSH Flags',' Fwd URG Flags',' Bwd URG Flags',\n",
    "                                    ' Fwd Header Length',' Bwd Header Length',' RST Flag Count',\n",
    "                                    ' PSH Flag Count',' ACK Flag Count', ' URG Flag Count', \n",
    "                                    ' CWE Flag Count', ' ECE Flag Count', ' Down/Up Ratio',\n",
    "                                    ' Fwd Header Length.1','Fwd Avg Bytes/Bulk', ' Fwd Avg Packets/Bulk',\n",
    "                                    ' Fwd Avg Bulk Rate', ' Bwd Avg Bytes/Bulk', ' Bwd Avg Packets/Bulk',\n",
    "                                    'Bwd Avg Bulk Rate','Subflow Fwd Packets',' Subflow Fwd Bytes',\n",
    "                                    'Init_Win_bytes_forward',' Init_Win_bytes_backward',' act_data_pkt_fwd',\n",
    "                                    ' min_seg_size_forward', 'Label', 'Flow Bytes/s', ' Fwd Header Length.1',\n",
    "                                   'Category']\n",
    "\n",
    "TrainDataset = training_data.drop(droppedcolumnsforclassifications, axis=1)\n",
    "TestDataset = testing_data.drop(droppedcolumnsforclassifications, axis=1)"
   ]
  },
  {
   "cell_type": "code",
   "execution_count": 158,
   "id": "f1148dfa",
   "metadata": {},
   "outputs": [
    {
     "name": "stdout",
     "output_type": "stream",
     "text": [
      "Index([' Destination Port', ' Flow Duration', 'Total Length of Fwd Packets',\n",
      "       ' Fwd Packet Length Max', ' Fwd Packet Length Min',\n",
      "       ' Fwd Packet Length Mean', ' Fwd Packet Length Std',\n",
      "       'Bwd Packet Length Max', ' Bwd Packet Length Mean',\n",
      "       ' Bwd Packet Length Std', ' Flow Packets/s', ' Flow IAT Mean',\n",
      "       ' Flow IAT Std', ' Flow IAT Max', ' Flow IAT Min', 'Fwd IAT Total',\n",
      "       ' Fwd IAT Mean', ' Fwd IAT Std', ' Fwd IAT Max', ' Fwd IAT Min',\n",
      "       'Bwd IAT Total', ' Bwd IAT Mean', ' Bwd IAT Std', ' Bwd IAT Max',\n",
      "       ' Bwd IAT Min', 'Fwd Packets/s', ' Bwd Packets/s', ' Min Packet Length',\n",
      "       ' Max Packet Length', ' Packet Length Mean', ' Packet Length Std',\n",
      "       ' Packet Length Variance', 'FIN Flag Count', ' SYN Flag Count',\n",
      "       ' Average Packet Size', ' Avg Fwd Segment Size',\n",
      "       ' Avg Bwd Segment Size', ' Subflow Bwd Packets', ' Subflow Bwd Bytes',\n",
      "       'Active Mean', ' Active Std', ' Active Max', ' Active Min', 'Idle Mean',\n",
      "       ' Idle Std', ' Idle Max', ' Idle Min', 'Category'],\n",
      "      dtype='object')\n"
     ]
    }
   ],
   "source": [
    "print(TrainDataset.columns)"
   ]
  },
  {
   "cell_type": "code",
   "execution_count": 57,
   "id": "9fe24375",
   "metadata": {},
   "outputs": [],
   "source": [
    "AttackTrainDataset = TrainDataset[TrainDataset['Category'] !='BENIGN']\n",
    "AttackTestDataset = TestDataset[TestDataset['Category'] !='BENIGN']"
   ]
  },
  {
   "cell_type": "code",
   "execution_count": 58,
   "id": "f9cba982",
   "metadata": {},
   "outputs": [
    {
     "name": "stdout",
     "output_type": "stream",
     "text": [
      "Number of types in the 'Category' column:\n",
      "DoS Hulk            35079\n",
      "PortScan            26808\n",
      "DDoS                25605\n",
      "DoS GoldenEye        2059\n",
      "FTP-Patator          1288\n",
      "DoS slowloris        1122\n",
      "DoS Slowhttptest     1058\n",
      "SSH-Patator           734\n",
      "Bot                   389\n",
      "Infiltration            8\n",
      "Name: Category, dtype: int64\n"
     ]
    }
   ],
   "source": [
    "# Assuming 'Category' is the column name\n",
    "category_counts = AttackTestDataset['Category'].value_counts()\n",
    "\n",
    "# Print the number of types in the 'Category' column\n",
    "print(\"Number of types in the 'Category' column:\")\n",
    "print(category_counts)\n"
   ]
  },
  {
   "cell_type": "code",
   "execution_count": 59,
   "id": "b6075116",
   "metadata": {},
   "outputs": [],
   "source": [
    "AttackTrainDataset.to_csv('AttackTrainDataset.csv', index=False)\n",
    "AttackTestDataset.to_csv('AttackTestDataset.csv', index=False)"
   ]
  },
  {
   "cell_type": "code",
   "execution_count": 82,
   "id": "89ddbc67",
   "metadata": {},
   "outputs": [],
   "source": [
    "# Identify rows with any large values (excluding 'Category' column)\n",
    "large_vals_rows = AttackTrainDataset.drop(columns=['Category'])[(AttackTrainDataset.drop(columns=['Category']) > 1000000).any(axis=1)]\n",
    "\n",
    "# Drop rows with any large values\n",
    "AttackTrainDataset = AttackTrainDataset.drop(index=large_vals_rows.index)\n",
    "\n",
    "# Reset the index after dropping rows\n",
    "AttackTrainDataset.reset_index(drop=True, inplace=True)\n",
    "\n",
    "# Identify rows with any large values (excluding 'Category' column)\n",
    "large_vals_rows = AttackTestDataset.drop(columns=['Category'])[(AttackTestDataset.drop(columns=['Category']) > 1000000).any(axis=1)]\n",
    "\n",
    "# Drop rows with any large values\n",
    "AttackTestDataset = AttackTestDataset.drop(index=large_vals_rows.index)\n",
    "\n",
    "# Reset the index after dropping rows\n",
    "AttackTestDataset.reset_index(drop=True, inplace=True)"
   ]
  },
  {
   "cell_type": "code",
   "execution_count": 118,
   "id": "c2cc16e8",
   "metadata": {},
   "outputs": [
    {
     "name": "stdout",
     "output_type": "stream",
     "text": [
      "47\n"
     ]
    }
   ],
   "source": [
    "clf = RandomForestClassifier(n_estimators=100, random_state=42)\n",
    "\n",
    "X_train = AttackTrainDataset.drop(columns=['Category'])\n",
    "print(len(X_train.columns))\n",
    "y_train = AttackTrainDataset['Category']\n",
    "\n",
    "\n",
    "X_test = AttackTestDataset.drop(columns=['Category'])\n",
    "\n",
    "\n",
    "y_test = AttackTestDataset['Category']\n"
   ]
  },
  {
   "cell_type": "code",
   "execution_count": null,
   "id": "0d73b46f",
   "metadata": {},
   "outputs": [],
   "source": []
  },
  {
   "cell_type": "code",
   "execution_count": 124,
   "id": "e5880b12",
   "metadata": {},
   "outputs": [
    {
     "data": {
      "text/html": [
       "<style>#sk-container-id-3 {color: black;background-color: white;}#sk-container-id-3 pre{padding: 0;}#sk-container-id-3 div.sk-toggleable {background-color: white;}#sk-container-id-3 label.sk-toggleable__label {cursor: pointer;display: block;width: 100%;margin-bottom: 0;padding: 0.3em;box-sizing: border-box;text-align: center;}#sk-container-id-3 label.sk-toggleable__label-arrow:before {content: \"▸\";float: left;margin-right: 0.25em;color: #696969;}#sk-container-id-3 label.sk-toggleable__label-arrow:hover:before {color: black;}#sk-container-id-3 div.sk-estimator:hover label.sk-toggleable__label-arrow:before {color: black;}#sk-container-id-3 div.sk-toggleable__content {max-height: 0;max-width: 0;overflow: hidden;text-align: left;background-color: #f0f8ff;}#sk-container-id-3 div.sk-toggleable__content pre {margin: 0.2em;color: black;border-radius: 0.25em;background-color: #f0f8ff;}#sk-container-id-3 input.sk-toggleable__control:checked~div.sk-toggleable__content {max-height: 200px;max-width: 100%;overflow: auto;}#sk-container-id-3 input.sk-toggleable__control:checked~label.sk-toggleable__label-arrow:before {content: \"▾\";}#sk-container-id-3 div.sk-estimator input.sk-toggleable__control:checked~label.sk-toggleable__label {background-color: #d4ebff;}#sk-container-id-3 div.sk-label input.sk-toggleable__control:checked~label.sk-toggleable__label {background-color: #d4ebff;}#sk-container-id-3 input.sk-hidden--visually {border: 0;clip: rect(1px 1px 1px 1px);clip: rect(1px, 1px, 1px, 1px);height: 1px;margin: -1px;overflow: hidden;padding: 0;position: absolute;width: 1px;}#sk-container-id-3 div.sk-estimator {font-family: monospace;background-color: #f0f8ff;border: 1px dotted black;border-radius: 0.25em;box-sizing: border-box;margin-bottom: 0.5em;}#sk-container-id-3 div.sk-estimator:hover {background-color: #d4ebff;}#sk-container-id-3 div.sk-parallel-item::after {content: \"\";width: 100%;border-bottom: 1px solid gray;flex-grow: 1;}#sk-container-id-3 div.sk-label:hover label.sk-toggleable__label {background-color: #d4ebff;}#sk-container-id-3 div.sk-serial::before {content: \"\";position: absolute;border-left: 1px solid gray;box-sizing: border-box;top: 0;bottom: 0;left: 50%;z-index: 0;}#sk-container-id-3 div.sk-serial {display: flex;flex-direction: column;align-items: center;background-color: white;padding-right: 0.2em;padding-left: 0.2em;position: relative;}#sk-container-id-3 div.sk-item {position: relative;z-index: 1;}#sk-container-id-3 div.sk-parallel {display: flex;align-items: stretch;justify-content: center;background-color: white;position: relative;}#sk-container-id-3 div.sk-item::before, #sk-container-id-3 div.sk-parallel-item::before {content: \"\";position: absolute;border-left: 1px solid gray;box-sizing: border-box;top: 0;bottom: 0;left: 50%;z-index: -1;}#sk-container-id-3 div.sk-parallel-item {display: flex;flex-direction: column;z-index: 1;position: relative;background-color: white;}#sk-container-id-3 div.sk-parallel-item:first-child::after {align-self: flex-end;width: 50%;}#sk-container-id-3 div.sk-parallel-item:last-child::after {align-self: flex-start;width: 50%;}#sk-container-id-3 div.sk-parallel-item:only-child::after {width: 0;}#sk-container-id-3 div.sk-dashed-wrapped {border: 1px dashed gray;margin: 0 0.4em 0.5em 0.4em;box-sizing: border-box;padding-bottom: 0.4em;background-color: white;}#sk-container-id-3 div.sk-label label {font-family: monospace;font-weight: bold;display: inline-block;line-height: 1.2em;}#sk-container-id-3 div.sk-label-container {text-align: center;}#sk-container-id-3 div.sk-container {/* jupyter's `normalize.less` sets `[hidden] { display: none; }` but bootstrap.min.css set `[hidden] { display: none !important; }` so we also need the `!important` here to be able to override the default hidden behavior on the sphinx rendered scikit-learn.org. See: https://github.com/scikit-learn/scikit-learn/issues/21755 */display: inline-block !important;position: relative;}#sk-container-id-3 div.sk-text-repr-fallback {display: none;}</style><div id=\"sk-container-id-3\" class=\"sk-top-container\"><div class=\"sk-text-repr-fallback\"><pre>RandomForestClassifier(random_state=42)</pre><b>In a Jupyter environment, please rerun this cell to show the HTML representation or trust the notebook. <br />On GitHub, the HTML representation is unable to render, please try loading this page with nbviewer.org.</b></div><div class=\"sk-container\" hidden><div class=\"sk-item\"><div class=\"sk-estimator sk-toggleable\"><input class=\"sk-toggleable__control sk-hidden--visually\" id=\"sk-estimator-id-3\" type=\"checkbox\" checked><label for=\"sk-estimator-id-3\" class=\"sk-toggleable__label sk-toggleable__label-arrow\">RandomForestClassifier</label><div class=\"sk-toggleable__content\"><pre>RandomForestClassifier(random_state=42)</pre></div></div></div></div></div>"
      ],
      "text/plain": [
       "RandomForestClassifier(random_state=42)"
      ]
     },
     "execution_count": 124,
     "metadata": {},
     "output_type": "execute_result"
    }
   ],
   "source": [
    "clf.fit(X_train, y_train)"
   ]
  },
  {
   "cell_type": "code",
   "execution_count": 86,
   "id": "1b3710fd",
   "metadata": {},
   "outputs": [],
   "source": [
    "y_pred = clf.predict(X_test)"
   ]
  },
  {
   "cell_type": "code",
   "execution_count": 92,
   "id": "0b4190f7",
   "metadata": {
    "scrolled": true
   },
   "outputs": [
    {
     "name": "stderr",
     "output_type": "stream",
     "text": [
      "C:\\Users\\user\\anaconda3\\Lib\\site-packages\\sklearn\\model_selection\\_split.py:684: UserWarning: The least populated class in y has only 2 members, which is less than n_splits=5.\n",
      "  warnings.warn(\n",
      "C:\\Users\\user\\anaconda3\\Lib\\site-packages\\sklearn\\metrics\\_classification.py:1334: UndefinedMetricWarning: Precision is ill-defined and being set to 0.0 in labels with no predicted samples. Use `zero_division` parameter to control this behavior.\n",
      "  _warn_prf(average, modifier, msg_start, len(result))\n",
      "C:\\Users\\user\\anaconda3\\Lib\\site-packages\\sklearn\\metrics\\_classification.py:1334: UndefinedMetricWarning: Precision is ill-defined and being set to 0.0 in labels with no predicted samples. Use `zero_division` parameter to control this behavior.\n",
      "  _warn_prf(average, modifier, msg_start, len(result))\n"
     ]
    },
    {
     "name": "stdout",
     "output_type": "stream",
     "text": [
      "Mean Accuracy (Cross-Validation): 0.9983288462285451\n",
      "Mean Precision (Cross-Validation): 0.8945302606751999\n",
      "Mean Recall (Cross-Validation): 0.9013611423188312\n",
      "Mean F1-score (Cross-Validation): 0.895518089772786\n"
     ]
    }
   ],
   "source": [
    "from sklearn.model_selection import cross_val_score\n",
    "from sklearn.metrics import make_scorer, accuracy_score, precision_score, recall_score, f1_score\n",
    "\n",
    "# Define scoring metrics\n",
    "scoring = {'accuracy': make_scorer(accuracy_score),\n",
    "           'precision': make_scorer(precision_score, average='macro'),\n",
    "           'recall': make_scorer(recall_score, average='macro'),\n",
    "           'f1': make_scorer(f1_score, average='macro')}\n",
    "\n",
    "# Perform cross-validation\n",
    "cv_results = cross_validate(clf, X_train, y_train, cv=5, scoring=scoring)\n",
    "\n",
    "# Compute mean scores\n",
    "mean_accuracy = cv_results['test_accuracy'].mean()\n",
    "mean_precision = cv_results['test_precision'].mean()\n",
    "mean_recall = cv_results['test_recall'].mean()\n",
    "mean_f1 = cv_results['test_f1'].mean()\n",
    "\n",
    "# Print mean scores\n",
    "print(\"Mean Accuracy (Cross-Validation):\", mean_accuracy)\n",
    "print(\"Mean Precision (Cross-Validation):\", mean_precision)\n",
    "print(\"Mean Recall (Cross-Validation):\", mean_recall)\n",
    "print(\"Mean F1-score (Cross-Validation):\", mean_f1)\n"
   ]
  },
  {
   "cell_type": "code",
   "execution_count": 90,
   "id": "0b2d14ba",
   "metadata": {},
   "outputs": [
    {
     "name": "stdout",
     "output_type": "stream",
     "text": [
      "Accuracy: 0.9988258921674649\n",
      "Precision: [1.         0.99391172 0.65       0.99411012 0.98850575 1.\n",
      " 1.         0.9998873  1.        ]\n",
      "Recall: [1.         0.99240122 0.76470588 0.99691834 1.         0.97761194\n",
      " 1.         0.99951183 0.99270073]\n",
      "F1-score: [1.         0.99315589 0.7027027  0.99551225 0.99421965 0.98867925\n",
      " 1.         0.99969953 0.996337  ]\n"
     ]
    }
   ],
   "source": [
    "#Compute accuracy\n",
    "accuracy = accuracy_score(y_test, y_pred)\n",
    "print(\"Accuracy:\", accuracy)\n",
    "\n",
    "# Compute precision\n",
    "precision = precision_score(y_test, y_pred, average=None)\n",
    "print(\"Precision:\", precision)\n",
    "\n",
    "# Compute recall\n",
    "recall = recall_score(y_test, y_pred, average=None)\n",
    "print(\"Recall:\", recall)\n",
    "\n",
    "# Compute F1-score\n",
    "f1 = f1_score(y_test, y_pred, average=None)\n",
    "print(\"F1-score:\", f1)\n",
    "\n"
   ]
  },
  {
   "cell_type": "code",
   "execution_count": 94,
   "id": "dfe56674",
   "metadata": {},
   "outputs": [
    {
     "name": "stdout",
     "output_type": "stream",
     "text": [
      "Collecting modelbit\n",
      "  Obtaining dependency information for modelbit from https://files.pythonhosted.org/packages/ab/fa/d22bc4775b9c716cf9104d27784bed7fed2794aea79b5577ceb2c5f265b4/modelbit-0.37.2-py3-none-any.whl.metadata\n",
      "  Downloading modelbit-0.37.2-py3-none-any.whl.metadata (2.0 kB)\n",
      "Collecting pycryptodomex (from modelbit)\n",
      "  Obtaining dependency information for pycryptodomex from https://files.pythonhosted.org/packages/b2/e8/1b92184ab7e5595bf38000587e6f8cf9556ebd1bf0a583619bee2057afbd/pycryptodomex-3.20.0-cp35-abi3-win_amd64.whl.metadata\n",
      "  Downloading pycryptodomex-3.20.0-cp35-abi3-win_amd64.whl.metadata (3.4 kB)\n",
      "Requirement already satisfied: pandas in c:\\users\\user\\anaconda3\\lib\\site-packages (from modelbit) (1.5.3)\n",
      "Requirement already satisfied: tqdm in c:\\users\\user\\anaconda3\\lib\\site-packages (from modelbit) (4.65.0)\n",
      "Requirement already satisfied: requests in c:\\users\\user\\anaconda3\\lib\\site-packages (from modelbit) (2.31.0)\n",
      "Collecting types-requests (from modelbit)\n",
      "  Obtaining dependency information for types-requests from https://files.pythonhosted.org/packages/8b/ea/91b718b8c0b88e4f61cdd61357cc4a1f8767b32be691fb388299003a3ae3/types_requests-2.31.0.20240406-py3-none-any.whl.metadata\n",
      "  Downloading types_requests-2.31.0.20240406-py3-none-any.whl.metadata (1.8 kB)\n",
      "Requirement already satisfied: pyyaml in c:\\users\\user\\anaconda3\\lib\\site-packages (from modelbit) (6.0)\n",
      "Collecting types-PyYAML (from modelbit)\n",
      "  Obtaining dependency information for types-PyYAML from https://files.pythonhosted.org/packages/b3/9a/2b75087549910ebd2be9894bfd89450668b2455094a8f2ba2b67072f15a5/types_PyYAML-6.0.12.20240311-py3-none-any.whl.metadata\n",
      "  Downloading types_PyYAML-6.0.12.20240311-py3-none-any.whl.metadata (1.5 kB)\n",
      "Requirement already satisfied: jinja2 in c:\\users\\user\\anaconda3\\lib\\site-packages (from modelbit) (3.1.2)\n",
      "Collecting types-pkg-resources (from modelbit)\n",
      "  Obtaining dependency information for types-pkg-resources from https://files.pythonhosted.org/packages/e9/97/a24ffd614ac2962dabbd599afbed00adf6464604a53b96b5f48301518a5f/types_pkg_resources-0.1.3-py2.py3-none-any.whl.metadata\n",
      "  Downloading types_pkg_resources-0.1.3-py2.py3-none-any.whl.metadata (902 bytes)\n",
      "Requirement already satisfied: zstandard in c:\\users\\user\\anaconda3\\lib\\site-packages (from modelbit) (0.19.0)\n",
      "Requirement already satisfied: appdirs in c:\\users\\user\\anaconda3\\lib\\site-packages (from modelbit) (1.4.4)\n",
      "Collecting texttable (from modelbit)\n",
      "  Obtaining dependency information for texttable from https://files.pythonhosted.org/packages/24/99/4772b8e00a136f3e01236de33b0efda31ee7077203ba5967fcc76da94d65/texttable-1.7.0-py2.py3-none-any.whl.metadata\n",
      "  Downloading texttable-1.7.0-py2.py3-none-any.whl.metadata (9.8 kB)\n",
      "Collecting build (from modelbit)\n",
      "  Obtaining dependency information for build from https://files.pythonhosted.org/packages/e2/03/f3c8ba0a6b6e30d7d18c40faab90807c9bb5e9a1e3b2fe2008af624a9c97/build-1.2.1-py3-none-any.whl.metadata\n",
      "  Downloading build-1.2.1-py3-none-any.whl.metadata (4.3 kB)\n",
      "Requirement already satisfied: pkginfo in c:\\users\\user\\anaconda3\\lib\\site-packages (from modelbit) (1.9.6)\n",
      "Collecting boto3>=1.23.0 (from modelbit)\n",
      "  Obtaining dependency information for boto3>=1.23.0 from https://files.pythonhosted.org/packages/c5/97/f3cd7fb0c6245cbc401d0cf842d1a10df409fbc7043d12f4f337c8f428d7/boto3-1.34.103-py3-none-any.whl.metadata\n",
      "  Downloading boto3-1.34.103-py3-none-any.whl.metadata (6.6 kB)\n",
      "Requirement already satisfied: urllib3<2,>=1.21.1 in c:\\users\\user\\anaconda3\\lib\\site-packages (from modelbit) (1.26.16)\n",
      "Collecting build (from modelbit)\n",
      "  Obtaining dependency information for build from https://files.pythonhosted.org/packages/58/91/17b00d5fac63d3dca605f1b8269ba3c65e98059e1fd99d00283e42a454f0/build-0.10.0-py3-none-any.whl.metadata\n",
      "  Downloading build-0.10.0-py3-none-any.whl.metadata (4.1 kB)\n",
      "Requirement already satisfied: importlib-metadata in c:\\users\\user\\anaconda3\\lib\\site-packages (from modelbit) (6.0.0)\n",
      "Collecting botocore<1.35.0,>=1.34.103 (from boto3>=1.23.0->modelbit)\n",
      "  Obtaining dependency information for botocore<1.35.0,>=1.34.103 from https://files.pythonhosted.org/packages/8e/f5/d957eeb2edaf0b7730b40651b725ec9fc6d5d18651e2672c836015d4c38c/botocore-1.34.103-py3-none-any.whl.metadata\n",
      "  Downloading botocore-1.34.103-py3-none-any.whl.metadata (5.7 kB)\n",
      "Requirement already satisfied: jmespath<2.0.0,>=0.7.1 in c:\\users\\user\\anaconda3\\lib\\site-packages (from boto3>=1.23.0->modelbit) (0.10.0)\n",
      "Collecting s3transfer<0.11.0,>=0.10.0 (from boto3>=1.23.0->modelbit)\n",
      "  Obtaining dependency information for s3transfer<0.11.0,>=0.10.0 from https://files.pythonhosted.org/packages/83/37/395cdb6ee92925fa211e55d8f07b9f93cf93f60d7d4ce5e66fd73f1ea986/s3transfer-0.10.1-py3-none-any.whl.metadata\n",
      "  Downloading s3transfer-0.10.1-py3-none-any.whl.metadata (1.7 kB)\n",
      "Requirement already satisfied: packaging>=19.0 in c:\\users\\user\\anaconda3\\lib\\site-packages (from build->modelbit) (23.1)\n",
      "Collecting pyproject_hooks (from build->modelbit)\n",
      "  Obtaining dependency information for pyproject_hooks from https://files.pythonhosted.org/packages/ae/f3/431b9d5fe7d14af7a32340792ef43b8a714e7726f1d7b69cc4e8e7a3f1d7/pyproject_hooks-1.1.0-py3-none-any.whl.metadata\n",
      "  Downloading pyproject_hooks-1.1.0-py3-none-any.whl.metadata (1.3 kB)\n",
      "Requirement already satisfied: colorama in c:\\users\\user\\anaconda3\\lib\\site-packages (from build->modelbit) (0.4.6)\n",
      "Requirement already satisfied: zipp>=0.5 in c:\\users\\user\\anaconda3\\lib\\site-packages (from importlib-metadata->modelbit) (3.11.0)\n",
      "Requirement already satisfied: MarkupSafe>=2.0 in c:\\users\\user\\anaconda3\\lib\\site-packages (from jinja2->modelbit) (2.1.1)\n",
      "Requirement already satisfied: python-dateutil>=2.8.1 in c:\\users\\user\\anaconda3\\lib\\site-packages (from pandas->modelbit) (2.8.2)\n",
      "Requirement already satisfied: pytz>=2020.1 in c:\\users\\user\\anaconda3\\lib\\site-packages (from pandas->modelbit) (2023.3.post1)\n",
      "Requirement already satisfied: numpy>=1.21.0 in c:\\users\\user\\anaconda3\\lib\\site-packages (from pandas->modelbit) (1.24.3)\n",
      "Requirement already satisfied: charset-normalizer<4,>=2 in c:\\users\\user\\anaconda3\\lib\\site-packages (from requests->modelbit) (2.0.4)\n",
      "Requirement already satisfied: idna<4,>=2.5 in c:\\users\\user\\anaconda3\\lib\\site-packages (from requests->modelbit) (3.4)\n",
      "Requirement already satisfied: certifi>=2017.4.17 in c:\\users\\user\\anaconda3\\lib\\site-packages (from requests->modelbit) (2024.2.2)\n",
      "INFO: pip is looking at multiple versions of types-requests to determine which version is compatible with other requirements. This could take a while.\n",
      "Collecting types-requests (from modelbit)\n",
      "  Obtaining dependency information for types-requests from https://files.pythonhosted.org/packages/6d/05/f9ccc1e7c1760367686834637ca41f2c13cb865c5c3e0505d18c9110cd9b/types_requests-2.31.0.20240403-py3-none-any.whl.metadata\n",
      "  Downloading types_requests-2.31.0.20240403-py3-none-any.whl.metadata (1.8 kB)\n",
      "  Obtaining dependency information for types-requests from https://files.pythonhosted.org/packages/01/ef/d6a1bb541debcea8141dd6d43935bad2e94e91cc68b993ad2130d6f3abf5/types_requests-2.31.0.20240402-py3-none-any.whl.metadata\n",
      "  Downloading types_requests-2.31.0.20240402-py3-none-any.whl.metadata (1.8 kB)\n",
      "  Obtaining dependency information for types-requests from https://files.pythonhosted.org/packages/05/22/21c7918c9bb842faa92fd26108e9f669c3dee9b6b239e8f45dd5f673e6cf/types_requests-2.31.0.20240311-py3-none-any.whl.metadata\n",
      "  Downloading types_requests-2.31.0.20240311-py3-none-any.whl.metadata (1.8 kB)\n",
      "  Obtaining dependency information for types-requests from https://files.pythonhosted.org/packages/7c/96/a651898995c25e8e1b5b8a87ed8b0bccc2895f0db051c534a75741387d40/types_requests-2.31.0.20240310-py3-none-any.whl.metadata\n",
      "  Downloading types_requests-2.31.0.20240310-py3-none-any.whl.metadata (1.8 kB)\n",
      "  Obtaining dependency information for types-requests from https://files.pythonhosted.org/packages/ce/ca/82c7f75616c524856488cece6b37e459de626cad49b2a24a0b571c20be06/types_requests-2.31.0.20240218-py3-none-any.whl.metadata\n",
      "  Downloading types_requests-2.31.0.20240218-py3-none-any.whl.metadata (1.8 kB)\n",
      "  Obtaining dependency information for types-requests from https://files.pythonhosted.org/packages/ae/29/3290a0d17865b9ec3d54fbb17faa265d9de7e856b6a3b52dfdf3507efd7c/types_requests-2.31.0.20240125-py3-none-any.whl.metadata\n",
      "  Downloading types_requests-2.31.0.20240125-py3-none-any.whl.metadata (1.8 kB)\n",
      "  Obtaining dependency information for types-requests from https://files.pythonhosted.org/packages/69/be/af3ec284a5dd21cffc84fa0088211adf896b6e5e862ce9b1ead212e51b0e/types_requests-2.31.0.20240106-py3-none-any.whl.metadata\n",
      "  Downloading types_requests-2.31.0.20240106-py3-none-any.whl.metadata (1.8 kB)\n",
      "INFO: pip is still looking at multiple versions of types-requests to determine which version is compatible with other requirements. This could take a while.\n",
      "  Obtaining dependency information for types-requests from https://files.pythonhosted.org/packages/1b/23/126ffd0c885926fbd95eac1148093a4d87e9698a1f938be16d109e63ca64/types_requests-2.31.0.20231231-py3-none-any.whl.metadata\n",
      "  Downloading types_requests-2.31.0.20231231-py3-none-any.whl.metadata (1.8 kB)\n",
      "  Obtaining dependency information for types-requests from https://files.pythonhosted.org/packages/1d/d6/1281c1d7b03a127562d6644ebff081e85045f0025b1fe26dcdd82811ad1a/types_requests-2.31.0.10-py3-none-any.whl.metadata\n",
      "  Downloading types_requests-2.31.0.10-py3-none-any.whl.metadata (1.8 kB)\n",
      "  Obtaining dependency information for types-requests from https://files.pythonhosted.org/packages/95/b1/805141aa0c0024c633828375918838841481c8b977de8636ae2b80fdcad9/types_requests-2.31.0.9-py3-none-any.whl.metadata\n",
      "  Downloading types_requests-2.31.0.9-py3-none-any.whl.metadata (1.8 kB)\n",
      "  Obtaining dependency information for types-requests from https://files.pythonhosted.org/packages/1e/50/fb7eed30eace72d2eb6cf71059f896e7b4a0c031b654b99f37146a68d60b/types_requests-2.31.0.8-py3-none-any.whl.metadata\n",
      "  Downloading types_requests-2.31.0.8-py3-none-any.whl.metadata (1.6 kB)\n",
      "  Obtaining dependency information for types-requests from https://files.pythonhosted.org/packages/38/89/12bdcc3709cbc95120c1a4234becb8a94c7271806c36ee90bcf792df1f30/types_requests-2.31.0.7-py3-none-any.whl.metadata\n",
      "  Downloading types_requests-2.31.0.7-py3-none-any.whl.metadata (1.4 kB)\n",
      "INFO: This is taking longer than usual. You might need to provide the dependency resolver with stricter constraints to reduce runtime. See https://pip.pypa.io/warnings/backtracking for guidance. If you want to abort this run, press Ctrl + C.\n",
      "  Obtaining dependency information for types-requests from https://files.pythonhosted.org/packages/5c/a1/6f8dc74d9069e790d604ddae70cb46dcbac668f1bb08136e7b0f2f5cd3bf/types_requests-2.31.0.6-py3-none-any.whl.metadata\n",
      "  Downloading types_requests-2.31.0.6-py3-none-any.whl.metadata (1.4 kB)\n",
      "Collecting types-urllib3 (from types-requests->modelbit)\n",
      "  Obtaining dependency information for types-urllib3 from https://files.pythonhosted.org/packages/11/7b/3fc711b2efea5e85a7a0bbfe269ea944aa767bbba5ec52f9ee45d362ccf3/types_urllib3-1.26.25.14-py3-none-any.whl.metadata\n",
      "  Downloading types_urllib3-1.26.25.14-py3-none-any.whl.metadata (1.7 kB)\n",
      "Requirement already satisfied: six>=1.5 in c:\\users\\user\\anaconda3\\lib\\site-packages (from python-dateutil>=2.8.1->pandas->modelbit) (1.16.0)\n",
      "Downloading modelbit-0.37.2-py3-none-any.whl (132 kB)\n",
      "   ---------------------------------------- 0.0/132.2 kB ? eta -:--:--\n",
      "   --------- ------------------------------ 30.7/132.2 kB 1.3 MB/s eta 0:00:01\n",
      "   ------------------ -------------------- 61.4/132.2 kB 656.4 kB/s eta 0:00:01\n",
      "   -------------------------------- ----- 112.6/132.2 kB 930.9 kB/s eta 0:00:01\n",
      "   -------------------------------------- 132.2/132.2 kB 865.0 kB/s eta 0:00:00\n",
      "Downloading boto3-1.34.103-py3-none-any.whl (139 kB)\n",
      "   ---------------------------------------- 0.0/139.3 kB ? eta -:--:--\n",
      "   -------------------------- ------------- 92.2/139.3 kB 2.6 MB/s eta 0:00:01\n",
      "   ---------------------------------------- 139.3/139.3 kB 1.7 MB/s eta 0:00:00\n",
      "Downloading build-0.10.0-py3-none-any.whl (17 kB)\n",
      "Downloading pycryptodomex-3.20.0-cp35-abi3-win_amd64.whl (1.8 MB)\n",
      "   ---------------------------------------- 0.0/1.8 MB ? eta -:--:--\n",
      "   - -------------------------------------- 0.1/1.8 MB 2.0 MB/s eta 0:00:01\n",
      "   - -------------------------------------- 0.1/1.8 MB 2.0 MB/s eta 0:00:01\n",
      "   -- ------------------------------------- 0.1/1.8 MB 901.1 kB/s eta 0:00:02\n",
      "   ----- ---------------------------------- 0.2/1.8 MB 1.4 MB/s eta 0:00:02\n",
      "   ------- -------------------------------- 0.3/1.8 MB 1.8 MB/s eta 0:00:01\n",
      "   -------- ------------------------------- 0.4/1.8 MB 1.3 MB/s eta 0:00:02\n",
      "   --------- ------------------------------ 0.4/1.8 MB 1.3 MB/s eta 0:00:02\n",
      "   ----------- ---------------------------- 0.5/1.8 MB 1.4 MB/s eta 0:00:01\n",
      "   -------------- ------------------------- 0.6/1.8 MB 1.5 MB/s eta 0:00:01\n",
      "   ---------------- ----------------------- 0.7/1.8 MB 1.6 MB/s eta 0:00:01\n",
      "   ------------------- -------------------- 0.8/1.8 MB 1.7 MB/s eta 0:00:01\n",
      "   --------------------- ------------------ 1.0/1.8 MB 1.7 MB/s eta 0:00:01\n",
      "   ----------------------- ---------------- 1.0/1.8 MB 1.8 MB/s eta 0:00:01\n",
      "   ----------------------- ---------------- 1.0/1.8 MB 1.8 MB/s eta 0:00:01\n",
      "   --------------------------- ------------ 1.2/1.8 MB 1.8 MB/s eta 0:00:01\n",
      "   --------------------------- ------------ 1.2/1.8 MB 1.8 MB/s eta 0:00:01\n",
      "   --------------------------- ------------ 1.2/1.8 MB 1.8 MB/s eta 0:00:01\n",
      "   ---------------------------- ----------- 1.2/1.8 MB 1.5 MB/s eta 0:00:01\n",
      "   -------------------------------- ------- 1.5/1.8 MB 1.7 MB/s eta 0:00:01\n",
      "   ---------------------------------- ----- 1.5/1.8 MB 1.6 MB/s eta 0:00:01\n",
      "   ----------------------------------- ---- 1.6/1.8 MB 1.6 MB/s eta 0:00:01\n",
      "   ------------------------------------ --- 1.6/1.8 MB 1.6 MB/s eta 0:00:01\n",
      "   -------------------------------------- - 1.7/1.8 MB 1.6 MB/s eta 0:00:01\n",
      "   ---------------------------------------- 1.8/1.8 MB 1.6 MB/s eta 0:00:00\n",
      "Downloading texttable-1.7.0-py2.py3-none-any.whl (10 kB)\n",
      "Downloading types_pkg_resources-0.1.3-py2.py3-none-any.whl (4.8 kB)\n",
      "Downloading types_PyYAML-6.0.12.20240311-py3-none-any.whl (15 kB)\n",
      "Downloading types_requests-2.31.0.6-py3-none-any.whl (14 kB)\n",
      "Downloading botocore-1.34.103-py3-none-any.whl (12.2 MB)\n",
      "   ---------------------------------------- 0.0/12.2 MB ? eta -:--:--\n",
      "   ---------------------------------------- 0.1/12.2 MB 2.4 MB/s eta 0:00:06\n",
      "    --------------------------------------- 0.2/12.2 MB 2.5 MB/s eta 0:00:05\n",
      "   - -------------------------------------- 0.3/12.2 MB 2.5 MB/s eta 0:00:05\n",
      "   - -------------------------------------- 0.4/12.2 MB 2.2 MB/s eta 0:00:06\n",
      "   - -------------------------------------- 0.5/12.2 MB 2.4 MB/s eta 0:00:05\n",
      "   -- ------------------------------------- 0.6/12.2 MB 2.4 MB/s eta 0:00:05\n",
      "   -- ------------------------------------- 0.8/12.2 MB 2.3 MB/s eta 0:00:05\n",
      "   -- ------------------------------------- 0.8/12.2 MB 2.3 MB/s eta 0:00:05\n",
      "   --- ------------------------------------ 1.0/12.2 MB 2.3 MB/s eta 0:00:05\n",
      "   --- ------------------------------------ 1.1/12.2 MB 2.3 MB/s eta 0:00:05\n",
      "   --- ------------------------------------ 1.2/12.2 MB 2.4 MB/s eta 0:00:05\n",
      "   ---- ----------------------------------- 1.3/12.2 MB 2.4 MB/s eta 0:00:05\n",
      "   ---- ----------------------------------- 1.4/12.2 MB 2.3 MB/s eta 0:00:05\n",
      "   ---- ----------------------------------- 1.5/12.2 MB 2.3 MB/s eta 0:00:05\n",
      "   ----- ---------------------------------- 1.6/12.2 MB 2.3 MB/s eta 0:00:05\n",
      "   ----- ---------------------------------- 1.7/12.2 MB 2.3 MB/s eta 0:00:05\n",
      "   ----- ---------------------------------- 1.8/12.2 MB 2.3 MB/s eta 0:00:05\n",
      "   ------ --------------------------------- 1.9/12.2 MB 2.3 MB/s eta 0:00:05\n",
      "   ------ --------------------------------- 2.1/12.2 MB 2.3 MB/s eta 0:00:05\n",
      "   ------- -------------------------------- 2.2/12.2 MB 2.3 MB/s eta 0:00:05\n",
      "   ------- -------------------------------- 2.3/12.2 MB 2.3 MB/s eta 0:00:05\n",
      "   ------- -------------------------------- 2.4/12.2 MB 2.3 MB/s eta 0:00:05\n",
      "   -------- ------------------------------- 2.5/12.2 MB 2.4 MB/s eta 0:00:05\n",
      "   -------- ------------------------------- 2.6/12.2 MB 2.4 MB/s eta 0:00:05\n",
      "   -------- ------------------------------- 2.7/12.2 MB 2.4 MB/s eta 0:00:05\n",
      "   --------- ------------------------------ 2.9/12.2 MB 2.4 MB/s eta 0:00:04\n",
      "   --------- ------------------------------ 3.0/12.2 MB 2.4 MB/s eta 0:00:04\n",
      "   ---------- ----------------------------- 3.1/12.2 MB 2.4 MB/s eta 0:00:04\n",
      "   ---------- ----------------------------- 3.2/12.2 MB 2.4 MB/s eta 0:00:04\n",
      "   ---------- ----------------------------- 3.3/12.2 MB 2.4 MB/s eta 0:00:04\n",
      "   ----------- ---------------------------- 3.5/12.2 MB 2.4 MB/s eta 0:00:04\n",
      "   ----------- ---------------------------- 3.6/12.2 MB 2.4 MB/s eta 0:00:04\n",
      "   ------------ --------------------------- 3.7/12.2 MB 2.4 MB/s eta 0:00:04\n",
      "   ------------ --------------------------- 3.8/12.2 MB 2.4 MB/s eta 0:00:04\n",
      "   ------------ --------------------------- 3.9/12.2 MB 2.4 MB/s eta 0:00:04\n",
      "   ------------- -------------------------- 4.1/12.2 MB 2.4 MB/s eta 0:00:04\n",
      "   ------------- -------------------------- 4.2/12.2 MB 2.4 MB/s eta 0:00:04\n",
      "   -------------- ------------------------- 4.3/12.2 MB 2.4 MB/s eta 0:00:04\n",
      "   -------------- ------------------------- 4.4/12.2 MB 2.5 MB/s eta 0:00:04\n",
      "   -------------- ------------------------- 4.5/12.2 MB 2.5 MB/s eta 0:00:04\n",
      "   --------------- ------------------------ 4.7/12.2 MB 2.5 MB/s eta 0:00:04\n",
      "   --------------- ------------------------ 4.8/12.2 MB 2.5 MB/s eta 0:00:04\n",
      "   --------------- ------------------------ 4.9/12.2 MB 2.5 MB/s eta 0:00:03\n",
      "   ---------------- ----------------------- 5.0/12.2 MB 2.5 MB/s eta 0:00:03\n",
      "   ---------------- ----------------------- 5.1/12.2 MB 2.5 MB/s eta 0:00:03\n",
      "   ----------------- ---------------------- 5.2/12.2 MB 2.5 MB/s eta 0:00:03\n",
      "   ----------------- ---------------------- 5.4/12.2 MB 2.5 MB/s eta 0:00:03\n",
      "   ----------------- ---------------------- 5.5/12.2 MB 2.5 MB/s eta 0:00:03\n",
      "   ------------------ --------------------- 5.6/12.2 MB 2.5 MB/s eta 0:00:03\n",
      "   ------------------ --------------------- 5.7/12.2 MB 2.5 MB/s eta 0:00:03\n",
      "   ------------------- -------------------- 5.8/12.2 MB 2.5 MB/s eta 0:00:03\n",
      "   ------------------- -------------------- 6.0/12.2 MB 2.5 MB/s eta 0:00:03\n",
      "   ------------------- -------------------- 6.1/12.2 MB 2.5 MB/s eta 0:00:03\n",
      "   -------------------- ------------------- 6.2/12.2 MB 2.5 MB/s eta 0:00:03\n",
      "   -------------------- ------------------- 6.3/12.2 MB 2.5 MB/s eta 0:00:03\n",
      "   --------------------- ------------------ 6.5/12.2 MB 2.5 MB/s eta 0:00:03\n",
      "   --------------------- ------------------ 6.6/12.2 MB 2.5 MB/s eta 0:00:03\n",
      "   --------------------- ------------------ 6.7/12.2 MB 2.5 MB/s eta 0:00:03\n",
      "   ---------------------- ----------------- 6.8/12.2 MB 2.5 MB/s eta 0:00:03\n",
      "   ---------------------- ----------------- 6.9/12.2 MB 2.5 MB/s eta 0:00:03\n",
      "   ---------------------- ----------------- 7.0/12.2 MB 2.5 MB/s eta 0:00:03\n",
      "   ----------------------- ---------------- 7.2/12.2 MB 2.5 MB/s eta 0:00:03\n",
      "   ----------------------- ---------------- 7.3/12.2 MB 2.5 MB/s eta 0:00:02\n",
      "   ------------------------ --------------- 7.4/12.2 MB 2.5 MB/s eta 0:00:02\n",
      "   ------------------------ --------------- 7.5/12.2 MB 2.5 MB/s eta 0:00:02\n",
      "   ------------------------ --------------- 7.6/12.2 MB 2.5 MB/s eta 0:00:02\n",
      "   ------------------------- -------------- 7.8/12.2 MB 2.5 MB/s eta 0:00:02\n",
      "   ------------------------- -------------- 7.9/12.2 MB 2.5 MB/s eta 0:00:02\n",
      "   -------------------------- ------------- 8.0/12.2 MB 2.5 MB/s eta 0:00:02\n",
      "   -------------------------- ------------- 8.1/12.2 MB 2.5 MB/s eta 0:00:02\n",
      "   -------------------------- ------------- 8.2/12.2 MB 2.5 MB/s eta 0:00:02\n",
      "   --------------------------- ------------ 8.4/12.2 MB 2.5 MB/s eta 0:00:02\n",
      "   --------------------------- ------------ 8.5/12.2 MB 2.5 MB/s eta 0:00:02\n",
      "   ---------------------------- ----------- 8.6/12.2 MB 2.5 MB/s eta 0:00:02\n",
      "   ---------------------------- ----------- 8.7/12.2 MB 2.5 MB/s eta 0:00:02\n",
      "   ---------------------------- ----------- 8.9/12.2 MB 2.5 MB/s eta 0:00:02\n",
      "   ----------------------------- ---------- 9.0/12.2 MB 2.5 MB/s eta 0:00:02\n",
      "   ----------------------------- ---------- 9.1/12.2 MB 2.5 MB/s eta 0:00:02\n",
      "   ------------------------------ --------- 9.2/12.2 MB 2.5 MB/s eta 0:00:02\n",
      "   ------------------------------ --------- 9.3/12.2 MB 2.5 MB/s eta 0:00:02\n",
      "   ------------------------------ --------- 9.4/12.2 MB 2.5 MB/s eta 0:00:02\n",
      "   ------------------------------- -------- 9.6/12.2 MB 2.5 MB/s eta 0:00:02\n",
      "   ------------------------------- -------- 9.7/12.2 MB 2.5 MB/s eta 0:00:02\n",
      "   -------------------------------- ------- 9.8/12.2 MB 2.5 MB/s eta 0:00:01\n",
      "   -------------------------------- ------- 9.9/12.2 MB 2.5 MB/s eta 0:00:01\n",
      "   -------------------------------- ------- 10.0/12.2 MB 2.5 MB/s eta 0:00:01\n",
      "   --------------------------------- ------ 10.1/12.2 MB 2.5 MB/s eta 0:00:01\n",
      "   --------------------------------- ------ 10.3/12.2 MB 2.5 MB/s eta 0:00:01\n",
      "   --------------------------------- ------ 10.4/12.2 MB 2.5 MB/s eta 0:00:01\n",
      "   ---------------------------------- ----- 10.5/12.2 MB 2.5 MB/s eta 0:00:01\n",
      "   ---------------------------------- ----- 10.6/12.2 MB 2.5 MB/s eta 0:00:01\n",
      "   ----------------------------------- ---- 10.8/12.2 MB 2.5 MB/s eta 0:00:01\n",
      "   ----------------------------------- ---- 10.9/12.2 MB 2.5 MB/s eta 0:00:01\n",
      "   ----------------------------------- ---- 11.0/12.2 MB 2.5 MB/s eta 0:00:01\n",
      "   ------------------------------------ --- 11.1/12.2 MB 2.5 MB/s eta 0:00:01\n",
      "   ------------------------------------ --- 11.2/12.2 MB 2.5 MB/s eta 0:00:01\n",
      "   ------------------------------------- -- 11.3/12.2 MB 2.6 MB/s eta 0:00:01\n",
      "   ------------------------------------- -- 11.3/12.2 MB 2.6 MB/s eta 0:00:01\n",
      "   ------------------------------------- -- 11.3/12.2 MB 2.6 MB/s eta 0:00:01\n",
      "   ------------------------------------- -- 11.6/12.2 MB 2.5 MB/s eta 0:00:01\n",
      "   -------------------------------------- - 11.6/12.2 MB 2.5 MB/s eta 0:00:01\n",
      "   -------------------------------------- - 11.7/12.2 MB 2.5 MB/s eta 0:00:01\n",
      "   -------------------------------------- - 11.7/12.2 MB 2.5 MB/s eta 0:00:01\n",
      "   -------------------------------------- - 11.9/12.2 MB 2.5 MB/s eta 0:00:01\n",
      "   ---------------------------------------  11.9/12.2 MB 2.5 MB/s eta 0:00:01\n",
      "   ---------------------------------------  12.0/12.2 MB 2.5 MB/s eta 0:00:01\n",
      "   ---------------------------------------  12.1/12.2 MB 2.5 MB/s eta 0:00:01\n",
      "   ---------------------------------------  12.2/12.2 MB 2.5 MB/s eta 0:00:01\n",
      "   ---------------------------------------- 12.2/12.2 MB 2.5 MB/s eta 0:00:00\n",
      "Downloading s3transfer-0.10.1-py3-none-any.whl (82 kB)\n",
      "   ---------------------------------------- 0.0/82.2 kB ? eta -:--:--\n",
      "   ---------------------------------------- 82.2/82.2 kB 2.2 MB/s eta 0:00:00\n",
      "Downloading pyproject_hooks-1.1.0-py3-none-any.whl (9.2 kB)\n",
      "Downloading types_urllib3-1.26.25.14-py3-none-any.whl (15 kB)\n",
      "Installing collected packages: types-urllib3, types-pkg-resources, texttable, types-requests, types-PyYAML, pyproject_hooks, pycryptodomex, build, botocore, s3transfer, boto3, modelbit\n",
      "  Attempting uninstall: botocore\n",
      "    Found existing installation: botocore 1.29.76\n",
      "    Uninstalling botocore-1.29.76:\n",
      "      Successfully uninstalled botocore-1.29.76\n",
      "Successfully installed boto3-1.34.103 botocore-1.34.103 build-0.10.0 modelbit-0.37.2 pycryptodomex-3.20.0 pyproject_hooks-1.1.0 s3transfer-0.10.1 texttable-1.7.0 types-PyYAML-6.0.12.20240311 types-pkg-resources-0.1.3 types-requests-2.31.0.6 types-urllib3-1.26.25.14\n",
      "Note: you may need to restart the kernel to use updated packages.\n"
     ]
    },
    {
     "name": "stderr",
     "output_type": "stream",
     "text": [
      "ERROR: pip's dependency resolver does not currently take into account all the packages that are installed. This behaviour is the source of the following dependency conflicts.\n",
      "aiobotocore 2.5.0 requires botocore<1.29.77,>=1.29.76, but you have botocore 1.34.103 which is incompatible.\n"
     ]
    }
   ],
   "source": [
    "pip install modelbit"
   ]
  },
  {
   "cell_type": "code",
   "execution_count": 95,
   "id": "a8a8c585",
   "metadata": {},
   "outputs": [],
   "source": [
    "import modelbit"
   ]
  },
  {
   "cell_type": "code",
   "execution_count": 96,
   "id": "ac2dcf84",
   "metadata": {},
   "outputs": [
    {
     "data": {
      "text/html": [
       "\n",
       "<div style=\"margin: 0; padding: 5px; line-height: 1.75; font-size: 14px; vertical-align: baseline; list-style: none; font-family: Roboto, Arial, sans-serif; background: none;\">\n",
       "  <div style=\"margin: 0; padding: 0; line-height: 1.75; font-size: 14px; vertical-align: baseline; list-style: none; font-family: Roboto, Arial, sans-serif; background: none;\">\n",
       "    You're <span style=\"margin: 0; padding: 0; line-height: 1.75; font-size: 14px; vertical-align: baseline; list-style: none; font-family: Roboto, Arial, sans-serif; background: none; color: #15803d; font-weight: bold;\">connected</span> to Modelbit as wesamabuaqel138@gmail.com.\n",
       "    Workspace: <span style=\"margin: 0; padding: 0; line-height: 1.75; font-size: 14px; vertical-align: baseline; list-style: none; font-family: monospace; background: none; font-weight: bold; color: #845B99;\">wesamabuaqel</span>.\n",
       "    \n",
       "      Region: <span style=\"margin: 0; padding: 0; line-height: 1.75; font-size: 14px; vertical-align: baseline; list-style: none; font-family: monospace; background: none; font-weight: bold; color: #845B99;\">us-east-1</span>\n",
       "    \n",
       "    Branch: <span style=\"margin: 0; padding: 0; line-height: 1.75; font-size: 14px; vertical-align: baseline; list-style: none; font-family: monospace; background: none; font-weight: bold; color: #845B99;\">main</span>\n",
       "\t</div>\n",
       "  \n",
       "\n",
       "\n",
       "</div>"
      ],
      "text/plain": [
       "<IPython.core.display.HTML object>"
      ]
     },
     "metadata": {},
     "output_type": "display_data"
    }
   ],
   "source": [
    "mb = modelbit.login()"
   ]
  },
  {
   "cell_type": "code",
   "execution_count": 97,
   "id": "84cfdf22",
   "metadata": {},
   "outputs": [
    {
     "data": {
      "text/html": [
       "<div style=\"margin: 0; padding: 5px; line-height: 1.75; font-size: 14px; vertical-align: baseline; list-style: none; font-family: Roboto, Arial, sans-serif; background: none;\">\n",
       "  <div>\n",
       "    <span style=\"margin: 0; padding: 0; line-height: 1.75; font-size: 14px; vertical-align: baseline; list-style: none; font-family: Roboto, Arial, sans-serif; background: none; font-weight: bold; color: #15803d;\">Deploying </span> <span style=\"margin: 0; padding: 3px; line-height: 1.75; font-size: 13px; vertical-align: baseline; list-style: none; font-family: monospace; background: none; font-weight: 400; background-color: rgba(209, 213, 219, 0.2);\">double_number</span>\n",
       "  </div>\n",
       "  \n",
       "\n",
       "  <div style=\"margin: 0; padding: 0; line-height: 1.75; font-size: 14px; vertical-align: baseline; list-style: none; font-family: Roboto, Arial, sans-serif; background: none;\">Uploading dependencies...</div>\n",
       "</div>"
      ],
      "text/plain": [
       "<IPython.core.display.HTML object>"
      ]
     },
     "metadata": {},
     "output_type": "display_data"
    },
    {
     "data": {
      "text/html": [
       "<div style=\"margin: 0; padding: 5px; line-height: 1.75; font-size: 14px; vertical-align: baseline; list-style: none; font-family: Roboto, Arial, sans-serif; background: none;\">\n",
       "  <div style=\"margin: 0; padding: 0; line-height: 1.75; font-size: 14px; vertical-align: baseline; list-style: none; font-family: Roboto, Arial, sans-serif; background: none; font-weight: bold; color: #15803d;\">Success!</div>\n",
       "  \n",
       "    <div style=\"margin: 0; padding: 0; line-height: 1.75; font-size: 14px; vertical-align: baseline; list-style: none; font-family: Roboto, Arial, sans-serif; background: none;\">\n",
       "      Deployment <span style=\"margin: 0; padding: 3px; line-height: 1.75; font-size: 13px; vertical-align: baseline; list-style: none; font-family: monospace; background: none; font-weight: 400; background-color: rgba(209, 213, 219, 0.2);\">double_number</span>\n",
       "      will be ready in  a couple minutes.\n",
       "    </div>\n",
       "  \n",
       "\n",
       "  <a href=\"https://us-east-1.modelbit.com/w/wesamabuaqel/main/deployments/double_number/apis?first=1\" target=\"_blank\" style=\"display: inline-block; margin-top: 12px;\" >\n",
       "    <div\n",
       "      style=\"display: inline-block; background-color: #845B99; border-radius: 0.375rem; color: white; cursor: pointer; font-size: 14px; font-weight: 700; padding: 8px 16px;\"\n",
       "      onmouseenter=\"this.style.background='#714488'\"\n",
       "      onmouseleave=\"this.style.background='#845B99'\"\n",
       "    >\n",
       "      View in Modelbit\n",
       "    </div>\n",
       "  </a>\n",
       "</div>"
      ],
      "text/plain": [
       "<IPython.core.display.HTML object>"
      ]
     },
     "metadata": {},
     "output_type": "display_data"
    }
   ],
   "source": [
    "def double_number(num: float) -> float:\n",
    "    \"\"\"\n",
    "    Example model that doubles numbers\n",
    "    >>> double_number(21)\n",
    "    42\n",
    "    \"\"\"\n",
    "    return 2 * num\n",
    "\n",
    "mb.deploy(double_number)"
   ]
  },
  {
   "cell_type": "code",
   "execution_count": 98,
   "id": "f29a5ebf",
   "metadata": {},
   "outputs": [
    {
     "data": {
      "text/plain": [
       "{'data': 20}"
      ]
     },
     "execution_count": 98,
     "metadata": {},
     "output_type": "execute_result"
    }
   ],
   "source": [
    "modelbit.get_inference(\n",
    "  region=\"us-east-1\",\n",
    "  workspace=\"wesamabuaqel\",\n",
    "  deployment=\"double_number\",\n",
    "  data=10\n",
    ")"
   ]
  },
  {
   "cell_type": "code",
   "execution_count": 99,
   "id": "f6037d75",
   "metadata": {},
   "outputs": [],
   "source": [
    "firsttest = pd.read_csv(r\"C:\\Users\\user\\Desktop\\Datsets\\5thmay\\first_test.csv\")"
   ]
  },
  {
   "cell_type": "code",
   "execution_count": 126,
   "id": "f752b07a",
   "metadata": {},
   "outputs": [],
   "source": [
    "neededcolumns = X_train.columns\n",
    "\n",
    "testcolumns = firsttest.columns"
   ]
  },
  {
   "cell_type": "code",
   "execution_count": 128,
   "id": "b9bc8e7d",
   "metadata": {},
   "outputs": [
    {
     "name": "stdout",
     "output_type": "stream",
     "text": [
      "Index([' Destination Port', ' Flow Duration', 'Total Length of Fwd Packets',\n",
      "       ' Fwd Packet Length Max', ' Fwd Packet Length Min',\n",
      "       ' Fwd Packet Length Mean', ' Fwd Packet Length Std',\n",
      "       'Bwd Packet Length Max', ' Bwd Packet Length Mean',\n",
      "       ' Bwd Packet Length Std', ' Flow Packets/s', ' Flow IAT Mean',\n",
      "       ' Flow IAT Std', ' Flow IAT Max', ' Flow IAT Min', 'Fwd IAT Total',\n",
      "       ' Fwd IAT Mean', ' Fwd IAT Std', ' Fwd IAT Max', ' Fwd IAT Min',\n",
      "       'Bwd IAT Total', ' Bwd IAT Mean', ' Bwd IAT Std', ' Bwd IAT Max',\n",
      "       ' Bwd IAT Min', 'Fwd Packets/s', ' Bwd Packets/s', ' Min Packet Length',\n",
      "       ' Max Packet Length', ' Packet Length Mean', ' Packet Length Std',\n",
      "       ' Packet Length Variance', 'FIN Flag Count', ' SYN Flag Count',\n",
      "       ' Average Packet Size', ' Avg Fwd Segment Size',\n",
      "       ' Avg Bwd Segment Size', ' Subflow Bwd Packets', ' Subflow Bwd Bytes',\n",
      "       'Active Mean', ' Active Std', ' Active Max', ' Active Min', 'Idle Mean',\n",
      "       ' Idle Std', ' Idle Max', ' Idle Min'],\n",
      "      dtype='object')\n",
      "47\n",
      "Index(['Flow ID', 'Src IP', 'Src Port', 'Dst IP', 'Dst Port', 'Protocol',\n",
      "       'Timestamp', 'Flow Duration', 'Tot Fwd Pkts', 'Tot Bwd Pkts',\n",
      "       'TotLen Fwd Pkts', 'TotLen Bwd Pkts', 'Fwd Pkt Len Max',\n",
      "       'Fwd Pkt Len Min', 'Fwd Pkt Len Mean', 'Fwd Pkt Len Std',\n",
      "       'Bwd Pkt Len Max', 'Bwd Pkt Len Min', 'Bwd Pkt Len Mean',\n",
      "       'Bwd Pkt Len Std', 'Flow Byts/s', 'Flow Pkts/s', 'Flow IAT Mean',\n",
      "       'Flow IAT Std', 'Flow IAT Max', 'Flow IAT Min', 'Fwd IAT Tot',\n",
      "       'Fwd IAT Mean', 'Fwd IAT Std', 'Fwd IAT Max', 'Fwd IAT Min',\n",
      "       'Bwd IAT Tot', 'Bwd IAT Mean', 'Bwd IAT Std', 'Bwd IAT Max',\n",
      "       'Bwd IAT Min', 'Fwd PSH Flags', 'Bwd PSH Flags', 'Fwd URG Flags',\n",
      "       'Bwd URG Flags', 'Fwd Header Len', 'Bwd Header Len', 'Fwd Pkts/s',\n",
      "       'Bwd Pkts/s', 'Pkt Len Min', 'Pkt Len Max', 'Pkt Len Mean',\n",
      "       'Pkt Len Std', 'Pkt Len Var', 'FIN Flag Cnt', 'SYN Flag Cnt',\n",
      "       'RST Flag Cnt', 'PSH Flag Cnt', 'ACK Flag Cnt', 'URG Flag Cnt',\n",
      "       'CWE Flag Count', 'ECE Flag Cnt', 'Down/Up Ratio', 'Pkt Size Avg',\n",
      "       'Fwd Seg Size Avg', 'Bwd Seg Size Avg', 'Fwd Byts/b Avg',\n",
      "       'Fwd Pkts/b Avg', 'Fwd Blk Rate Avg', 'Bwd Byts/b Avg',\n",
      "       'Bwd Pkts/b Avg', 'Bwd Blk Rate Avg', 'Subflow Fwd Pkts',\n",
      "       'Subflow Fwd Byts', 'Subflow Bwd Pkts', 'Subflow Bwd Byts',\n",
      "       'Init Fwd Win Byts', 'Init Bwd Win Byts', 'Fwd Act Data Pkts',\n",
      "       'Fwd Seg Size Min', 'Active Mean', 'Active Std', 'Active Max',\n",
      "       'Active Min', 'Idle Mean', 'Idle Std', 'Idle Max', 'Idle Min', 'Label'],\n",
      "      dtype='object')\n"
     ]
    }
   ],
   "source": [
    "print(neededcolumns)\n",
    "print(len(neededcolumns))\n",
    "print(testcolumns)"
   ]
  },
  {
   "cell_type": "code",
   "execution_count": 129,
   "id": "b4edbb92",
   "metadata": {
    "scrolled": true
   },
   "outputs": [],
   "source": [
    "actualcolumns = ['Dst Port', 'Flow Duration', 'TotLen Fwd Pkts', 'Fwd Pkt Len Max',\n",
    "                'Fwd Pkt Len Min', 'Fwd Pkt Len Mean', 'Fwd Pkt Len Std', 'Bwd Pkt Len Max',\n",
    "                'Bwd Pkt Len Mean', 'Bwd Pkt Len Std', 'Flow Pkts/s', 'Flow IAT Mean',\n",
    "                'Flow IAT Std','Flow IAT Max','Flow IAT Min','Fwd IAT Tot',\n",
    "                'Fwd IAT Mean','Fwd IAT Std','Fwd IAT Max','Fwd IAT Min',\n",
    "                'Bwd IAT Tot','Bwd IAT Mean','Bwd IAT Std','Bwd IAT Max',\n",
    "                'Bwd IAT Min', 'Fwd Pkts/s','Bwd Pkts/s','Pkt Len Min', \n",
    "                'Pkt Len Max', 'Pkt Len Mean', 'Pkt Len Std','Pkt Len Var','FIN Flag Cnt', \n",
    "                'SYN Flag Cnt','Pkt Size Avg','Fwd Seg Size Avg', 'Bwd Seg Size Avg',\n",
    "                'Subflow Bwd Pkts', 'Subflow Bwd Byts','Active Mean', 'Active Std', 'Active Max',\n",
    "                'Active Min', 'Idle Mean', 'Idle Std', 'Idle Max', 'Idle Min',]"
   ]
  },
  {
   "cell_type": "code",
   "execution_count": 130,
   "id": "d323e883",
   "metadata": {},
   "outputs": [],
   "source": [
    "FirstTestDataset = firsttest[actualcolumns]"
   ]
  },
  {
   "cell_type": "code",
   "execution_count": 144,
   "id": "3da1145a",
   "metadata": {},
   "outputs": [],
   "source": [
    "FirstOutput = clf.predict(FirstTestDataset)"
   ]
  },
  {
   "cell_type": "code",
   "execution_count": 141,
   "id": "4f3768af",
   "metadata": {},
   "outputs": [
    {
     "name": "stdout",
     "output_type": "stream",
     "text": [
      "{'Dst Port': ' Destination Port', 'Flow Duration': ' Flow Duration', 'TotLen Fwd Pkts': 'Total Length of Fwd Packets', 'Fwd Pkt Len Max': ' Fwd Packet Length Max', 'Fwd Pkt Len Min': ' Fwd Packet Length Min', 'Fwd Pkt Len Mean': ' Fwd Packet Length Mean', 'Fwd Pkt Len Std': ' Fwd Packet Length Std', 'Bwd Pkt Len Max': 'Bwd Packet Length Max', 'Bwd Pkt Len Mean': ' Bwd Packet Length Mean', 'Bwd Pkt Len Std': ' Bwd Packet Length Std', 'Flow Pkts/s': ' Flow Packets/s', 'Flow IAT Mean': ' Flow IAT Mean', 'Flow IAT Std': ' Flow IAT Std', 'Flow IAT Max': ' Flow IAT Max', 'Flow IAT Min': ' Flow IAT Min', 'Fwd IAT Tot': 'Fwd IAT Total', 'Fwd IAT Mean': ' Fwd IAT Mean', 'Fwd IAT Std': ' Fwd IAT Std', 'Fwd IAT Max': ' Fwd IAT Max', 'Fwd IAT Min': ' Fwd IAT Min', 'Bwd IAT Tot': 'Bwd IAT Total', 'Bwd IAT Mean': ' Bwd IAT Mean', 'Bwd IAT Std': ' Bwd IAT Std', 'Bwd IAT Max': ' Bwd IAT Max', 'Bwd IAT Min': ' Bwd IAT Min', 'Fwd Pkts/s': 'Fwd Packets/s', 'Bwd Pkts/s': ' Bwd Packets/s', 'Pkt Len Min': ' Min Packet Length', 'Pkt Len Max': ' Max Packet Length', 'Pkt Len Mean': ' Packet Length Mean', 'Pkt Len Std': ' Packet Length Std', 'Pkt Len Var': ' Packet Length Variance', 'FIN Flag Cnt': 'FIN Flag Count', 'SYN Flag Cnt': ' SYN Flag Count', 'Pkt Size Avg': ' Average Packet Size', 'Fwd Seg Size Avg': ' Avg Fwd Segment Size', 'Bwd Seg Size Avg': ' Avg Bwd Segment Size', 'Subflow Bwd Pkts': ' Subflow Bwd Packets', 'Subflow Bwd Byts': ' Subflow Bwd Bytes', 'Active Mean': 'Active Mean', 'Active Std': ' Active Std', 'Active Max': ' Active Max', 'Active Min': ' Active Min', 'Idle Mean': 'Idle Mean', 'Idle Std': ' Idle Std', 'Idle Max': ' Idle Max', 'Idle Min': ' Idle Min'}\n"
     ]
    }
   ],
   "source": [
    "column_mapping = dict(zip(actualcolumns,neededcolumns ))\n",
    "print(column_mapping)"
   ]
  },
  {
   "cell_type": "code",
   "execution_count": 142,
   "id": "bff8c476",
   "metadata": {},
   "outputs": [
    {
     "name": "stdout",
     "output_type": "stream",
     "text": [
      "Index([' Destination Port', ' Flow Duration', 'Total Length of Fwd Packets',\n",
      "       ' Fwd Packet Length Max', ' Fwd Packet Length Min',\n",
      "       ' Fwd Packet Length Mean', ' Fwd Packet Length Std',\n",
      "       'Bwd Packet Length Max', ' Bwd Packet Length Mean',\n",
      "       ' Bwd Packet Length Std', ' Flow Packets/s', ' Flow IAT Mean',\n",
      "       ' Flow IAT Std', ' Flow IAT Max', ' Flow IAT Min', 'Fwd IAT Total',\n",
      "       ' Fwd IAT Mean', ' Fwd IAT Std', ' Fwd IAT Max', ' Fwd IAT Min',\n",
      "       'Bwd IAT Total', ' Bwd IAT Mean', ' Bwd IAT Std', ' Bwd IAT Max',\n",
      "       ' Bwd IAT Min', 'Fwd Packets/s', ' Bwd Packets/s', ' Min Packet Length',\n",
      "       ' Max Packet Length', ' Packet Length Mean', ' Packet Length Std',\n",
      "       ' Packet Length Variance', 'FIN Flag Count', ' SYN Flag Count',\n",
      "       ' Average Packet Size', ' Avg Fwd Segment Size',\n",
      "       ' Avg Bwd Segment Size', ' Subflow Bwd Packets', ' Subflow Bwd Bytes',\n",
      "       'Active Mean', ' Active Std', ' Active Max', ' Active Min', 'Idle Mean',\n",
      "       ' Idle Std', ' Idle Max', ' Idle Min'],\n",
      "      dtype='object')\n"
     ]
    }
   ],
   "source": [
    "FirstTestDataset = FirstTestDataset.rename(columns=column_mapping, inplace=False)\n",
    "\n",
    "print(FirstTestDataset.columns)"
   ]
  },
  {
   "cell_type": "code",
   "execution_count": null,
   "id": "f31ee2cd",
   "metadata": {},
   "outputs": [],
   "source": [
    "print(neededcolumns)\n",
    "print(actualcolumns)"
   ]
  },
  {
   "cell_type": "code",
   "execution_count": null,
   "id": "b8087826",
   "metadata": {},
   "outputs": [],
   "source": [
    "print(FirstOutput)"
   ]
  },
  {
   "cell_type": "code",
   "execution_count": 180,
   "id": "45001c5e",
   "metadata": {},
   "outputs": [
    {
     "name": "stdout",
     "output_type": "stream",
     "text": [
      "Index([' Total Fwd Packets', ' Total Backward Packets',\n",
      "       ' Total Length of Bwd Packets', ' Fwd Packet Length Max',\n",
      "       ' Fwd Packet Length Min', ' Fwd Packet Length Mean',\n",
      "       ' Fwd Packet Length Std', 'Bwd Packet Length Max',\n",
      "       ' Bwd Packet Length Min', ' Bwd Packet Length Mean',\n",
      "       ' Bwd Packet Length Std', ' Fwd URG Flags', ' Fwd Header Length',\n",
      "       ' Bwd Header Length', ' Bwd Packets/s', ' Min Packet Length',\n",
      "       ' Packet Length Mean', ' RST Flag Count', ' CWE Flag Count',\n",
      "       ' ECE Flag Count', ' Down/Up Ratio', ' Average Packet Size',\n",
      "       ' Avg Fwd Segment Size', ' Avg Bwd Segment Size', ' Fwd Avg Bulk Rate',\n",
      "       ' Bwd Avg Bytes/Bulk', 'Subflow Fwd Packets', ' Subflow Fwd Bytes',\n",
      "       ' Subflow Bwd Packets', ' Subflow Bwd Bytes', 'Init_Win_bytes_forward',\n",
      "       ' Init_Win_bytes_backward', ' act_data_pkt_fwd',\n",
      "       ' min_seg_size_forward', 'Active Mean', ' Active Std', ' Active Max',\n",
      "       ' Active Min', ' Idle Max'],\n",
      "      dtype='object')\n"
     ]
    }
   ],
   "source": [
    "X_train.drop(columns = [' Fwd Header Length.1'] , inplace = True)\n",
    "\n",
    "neededcolumns = X_train.columns\n",
    "\n",
    "print(neededcolumns)"
   ]
  },
  {
   "cell_type": "code",
   "execution_count": 173,
   "id": "d70e1f9a",
   "metadata": {},
   "outputs": [],
   "source": [
    "DetectionColumns = ['Tot Fwd Pkts','Tot Bwd Pkts','TotLen Bwd Pkts','Fwd Pkt Len Max',\n",
    "                   'Fwd Pkt Len Min', 'Fwd Pkt Len Mean', 'Fwd Pkt Len Std',\n",
    "                   'Bwd Pkt Len Max', 'Bwd Pkt Len Min', 'Bwd Pkt Len Mean',\n",
    "                   'Bwd Pkt Len Std','Fwd URG Flags','Fwd Header Len','Bwd Header Len',\n",
    "                   'Bwd Header Len','Bwd Pkts/s','Pkt Len Min','RST Flag Cnt',\n",
    "                   'CWE Flag Count','ECE Flag Cnt','Down/Up Ratio','Pkt Size Avg',\n",
    "                   'Fwd Seg Size Avg', 'Bwd Seg Size Avg','Fwd Blk Rate Avg','Bwd Byts/b Avg',\n",
    "                   'Subflow Fwd Pkts','Subflow Fwd Byts', 'Subflow Bwd Pkts', 'Subflow Bwd Byts',\n",
    "                   'Init Fwd Win Byts', 'Init Bwd Win Byts','Fwd Act Data Pkts','Fwd Seg Size Min',\n",
    "                   'Active Mean', 'Active Std', 'Active Max','Active Min','Idle Max']\n",
    "\n"
   ]
  },
  {
   "cell_type": "code",
   "execution_count": 181,
   "id": "3f5b3f42",
   "metadata": {},
   "outputs": [],
   "source": [
    "column_mapping = dict(zip(DetectionColumns,neededcolumns ))"
   ]
  },
  {
   "cell_type": "code",
   "execution_count": 182,
   "id": "c60c9cd5",
   "metadata": {},
   "outputs": [
    {
     "name": "stdout",
     "output_type": "stream",
     "text": [
      "{'Tot Fwd Pkts': ' Total Fwd Packets', 'Tot Bwd Pkts': ' Total Backward Packets', 'TotLen Bwd Pkts': ' Total Length of Bwd Packets', 'Fwd Pkt Len Max': ' Fwd Packet Length Max', 'Fwd Pkt Len Min': ' Fwd Packet Length Min', 'Fwd Pkt Len Mean': ' Fwd Packet Length Mean', 'Fwd Pkt Len Std': ' Fwd Packet Length Std', 'Bwd Pkt Len Max': 'Bwd Packet Length Max', 'Bwd Pkt Len Min': ' Bwd Packet Length Min', 'Bwd Pkt Len Mean': ' Bwd Packet Length Mean', 'Bwd Pkt Len Std': ' Bwd Packet Length Std', 'Fwd URG Flags': ' Fwd URG Flags', 'Fwd Header Len': ' Fwd Header Length', 'Bwd Header Len': ' Bwd Packets/s', 'Bwd Pkts/s': ' Min Packet Length', 'Pkt Len Min': ' Packet Length Mean', 'RST Flag Cnt': ' RST Flag Count', 'CWE Flag Count': ' CWE Flag Count', 'ECE Flag Cnt': ' ECE Flag Count', 'Down/Up Ratio': ' Down/Up Ratio', 'Pkt Size Avg': ' Average Packet Size', 'Fwd Seg Size Avg': ' Avg Fwd Segment Size', 'Bwd Seg Size Avg': ' Avg Bwd Segment Size', 'Fwd Blk Rate Avg': ' Fwd Avg Bulk Rate', 'Bwd Byts/b Avg': ' Bwd Avg Bytes/Bulk', 'Subflow Fwd Pkts': 'Subflow Fwd Packets', 'Subflow Fwd Byts': ' Subflow Fwd Bytes', 'Subflow Bwd Pkts': ' Subflow Bwd Packets', 'Subflow Bwd Byts': ' Subflow Bwd Bytes', 'Init Fwd Win Byts': 'Init_Win_bytes_forward', 'Init Bwd Win Byts': ' Init_Win_bytes_backward', 'Fwd Act Data Pkts': ' act_data_pkt_fwd', 'Fwd Seg Size Min': ' min_seg_size_forward', 'Active Mean': 'Active Mean', 'Active Std': ' Active Std', 'Active Max': ' Active Max', 'Active Min': ' Active Min', 'Idle Max': ' Idle Max'}\n"
     ]
    }
   ],
   "source": [
    "print(column_mapping)"
   ]
  },
  {
   "cell_type": "code",
   "execution_count": 184,
   "id": "d0cc646b",
   "metadata": {},
   "outputs": [],
   "source": [
    "SecondTestDataset = firsttest[DetectionColumns]"
   ]
  },
  {
   "cell_type": "code",
   "execution_count": 185,
   "id": "35942ad9",
   "metadata": {},
   "outputs": [
    {
     "data": {
      "text/html": [
       "<style>#sk-container-id-4 {color: black;background-color: white;}#sk-container-id-4 pre{padding: 0;}#sk-container-id-4 div.sk-toggleable {background-color: white;}#sk-container-id-4 label.sk-toggleable__label {cursor: pointer;display: block;width: 100%;margin-bottom: 0;padding: 0.3em;box-sizing: border-box;text-align: center;}#sk-container-id-4 label.sk-toggleable__label-arrow:before {content: \"▸\";float: left;margin-right: 0.25em;color: #696969;}#sk-container-id-4 label.sk-toggleable__label-arrow:hover:before {color: black;}#sk-container-id-4 div.sk-estimator:hover label.sk-toggleable__label-arrow:before {color: black;}#sk-container-id-4 div.sk-toggleable__content {max-height: 0;max-width: 0;overflow: hidden;text-align: left;background-color: #f0f8ff;}#sk-container-id-4 div.sk-toggleable__content pre {margin: 0.2em;color: black;border-radius: 0.25em;background-color: #f0f8ff;}#sk-container-id-4 input.sk-toggleable__control:checked~div.sk-toggleable__content {max-height: 200px;max-width: 100%;overflow: auto;}#sk-container-id-4 input.sk-toggleable__control:checked~label.sk-toggleable__label-arrow:before {content: \"▾\";}#sk-container-id-4 div.sk-estimator input.sk-toggleable__control:checked~label.sk-toggleable__label {background-color: #d4ebff;}#sk-container-id-4 div.sk-label input.sk-toggleable__control:checked~label.sk-toggleable__label {background-color: #d4ebff;}#sk-container-id-4 input.sk-hidden--visually {border: 0;clip: rect(1px 1px 1px 1px);clip: rect(1px, 1px, 1px, 1px);height: 1px;margin: -1px;overflow: hidden;padding: 0;position: absolute;width: 1px;}#sk-container-id-4 div.sk-estimator {font-family: monospace;background-color: #f0f8ff;border: 1px dotted black;border-radius: 0.25em;box-sizing: border-box;margin-bottom: 0.5em;}#sk-container-id-4 div.sk-estimator:hover {background-color: #d4ebff;}#sk-container-id-4 div.sk-parallel-item::after {content: \"\";width: 100%;border-bottom: 1px solid gray;flex-grow: 1;}#sk-container-id-4 div.sk-label:hover label.sk-toggleable__label {background-color: #d4ebff;}#sk-container-id-4 div.sk-serial::before {content: \"\";position: absolute;border-left: 1px solid gray;box-sizing: border-box;top: 0;bottom: 0;left: 50%;z-index: 0;}#sk-container-id-4 div.sk-serial {display: flex;flex-direction: column;align-items: center;background-color: white;padding-right: 0.2em;padding-left: 0.2em;position: relative;}#sk-container-id-4 div.sk-item {position: relative;z-index: 1;}#sk-container-id-4 div.sk-parallel {display: flex;align-items: stretch;justify-content: center;background-color: white;position: relative;}#sk-container-id-4 div.sk-item::before, #sk-container-id-4 div.sk-parallel-item::before {content: \"\";position: absolute;border-left: 1px solid gray;box-sizing: border-box;top: 0;bottom: 0;left: 50%;z-index: -1;}#sk-container-id-4 div.sk-parallel-item {display: flex;flex-direction: column;z-index: 1;position: relative;background-color: white;}#sk-container-id-4 div.sk-parallel-item:first-child::after {align-self: flex-end;width: 50%;}#sk-container-id-4 div.sk-parallel-item:last-child::after {align-self: flex-start;width: 50%;}#sk-container-id-4 div.sk-parallel-item:only-child::after {width: 0;}#sk-container-id-4 div.sk-dashed-wrapped {border: 1px dashed gray;margin: 0 0.4em 0.5em 0.4em;box-sizing: border-box;padding-bottom: 0.4em;background-color: white;}#sk-container-id-4 div.sk-label label {font-family: monospace;font-weight: bold;display: inline-block;line-height: 1.2em;}#sk-container-id-4 div.sk-label-container {text-align: center;}#sk-container-id-4 div.sk-container {/* jupyter's `normalize.less` sets `[hidden] { display: none; }` but bootstrap.min.css set `[hidden] { display: none !important; }` so we also need the `!important` here to be able to override the default hidden behavior on the sphinx rendered scikit-learn.org. See: https://github.com/scikit-learn/scikit-learn/issues/21755 */display: inline-block !important;position: relative;}#sk-container-id-4 div.sk-text-repr-fallback {display: none;}</style><div id=\"sk-container-id-4\" class=\"sk-top-container\"><div class=\"sk-text-repr-fallback\"><pre>RandomForestClassifier(random_state=42)</pre><b>In a Jupyter environment, please rerun this cell to show the HTML representation or trust the notebook. <br />On GitHub, the HTML representation is unable to render, please try loading this page with nbviewer.org.</b></div><div class=\"sk-container\" hidden><div class=\"sk-item\"><div class=\"sk-estimator sk-toggleable\"><input class=\"sk-toggleable__control sk-hidden--visually\" id=\"sk-estimator-id-4\" type=\"checkbox\" checked><label for=\"sk-estimator-id-4\" class=\"sk-toggleable__label sk-toggleable__label-arrow\">RandomForestClassifier</label><div class=\"sk-toggleable__content\"><pre>RandomForestClassifier(random_state=42)</pre></div></div></div></div></div>"
      ],
      "text/plain": [
       "RandomForestClassifier(random_state=42)"
      ]
     },
     "execution_count": 185,
     "metadata": {},
     "output_type": "execute_result"
    }
   ],
   "source": [
    "clf.fit(X_train, y_train)"
   ]
  },
  {
   "cell_type": "code",
   "execution_count": 190,
   "id": "a9261af3",
   "metadata": {},
   "outputs": [
    {
     "name": "stdout",
     "output_type": "stream",
     "text": [
      "Index([' Total Fwd Packets', ' Total Backward Packets',\n",
      "       ' Total Length of Bwd Packets', ' Fwd Packet Length Max',\n",
      "       ' Fwd Packet Length Min', ' Fwd Packet Length Mean',\n",
      "       ' Fwd Packet Length Std', 'Bwd Packet Length Max',\n",
      "       ' Bwd Packet Length Min', ' Bwd Packet Length Mean',\n",
      "       ' Bwd Packet Length Std', ' Fwd URG Flags', ' Fwd Header Length',\n",
      "       ' Bwd Header Length', ' Bwd Packets/s', ' Min Packet Length',\n",
      "       ' Packet Length Mean', ' RST Flag Count', ' CWE Flag Count',\n",
      "       ' ECE Flag Count', ' Down/Up Ratio', ' Average Packet Size',\n",
      "       ' Avg Fwd Segment Size', ' Avg Bwd Segment Size', ' Fwd Avg Bulk Rate',\n",
      "       ' Bwd Avg Bytes/Bulk', 'Subflow Fwd Packets', ' Subflow Fwd Bytes',\n",
      "       ' Subflow Bwd Packets', ' Subflow Bwd Bytes', 'Init_Win_bytes_forward',\n",
      "       ' Init_Win_bytes_backward', ' act_data_pkt_fwd',\n",
      "       ' min_seg_size_forward', 'Active Mean', ' Active Std', ' Active Max',\n",
      "       ' Active Min', ' Idle Max'],\n",
      "      dtype='object')\n",
      "39\n",
      "Index(['Tot Fwd Pkts', 'Tot Bwd Pkts', 'TotLen Bwd Pkts', 'Fwd Pkt Len Max',\n",
      "       'Fwd Pkt Len Min', 'Fwd Pkt Len Mean', 'Fwd Pkt Len Std',\n",
      "       'Bwd Pkt Len Max', 'Bwd Pkt Len Min', 'Bwd Pkt Len Mean',\n",
      "       'Bwd Pkt Len Std', 'Fwd URG Flags', 'Fwd Header Len', 'Bwd Header Len',\n",
      "       'Bwd Header Len', 'Bwd Pkts/s', 'Pkt Len Min', 'RST Flag Cnt',\n",
      "       'CWE Flag Count', 'ECE Flag Cnt', 'Down/Up Ratio', 'Pkt Size Avg',\n",
      "       'Fwd Seg Size Avg', 'Bwd Seg Size Avg', 'Fwd Blk Rate Avg',\n",
      "       'Bwd Byts/b Avg', 'Subflow Fwd Pkts', 'Subflow Fwd Byts',\n",
      "       'Subflow Bwd Pkts', 'Subflow Bwd Byts', 'Init Fwd Win Byts',\n",
      "       'Init Bwd Win Byts', 'Fwd Act Data Pkts', 'Fwd Seg Size Min',\n",
      "       'Active Mean', 'Active Std', 'Active Max', 'Active Min', 'Idle Max'],\n",
      "      dtype='object')\n",
      "39\n",
      "Index([' Total Fwd Packets', ' Total Backward Packets',\n",
      "       ' Total Length of Bwd Packets', ' Fwd Packet Length Max',\n",
      "       ' Fwd Packet Length Min', ' Fwd Packet Length Mean',\n",
      "       ' Fwd Packet Length Std', 'Bwd Packet Length Max',\n",
      "       ' Bwd Packet Length Min', ' Bwd Packet Length Mean',\n",
      "       ' Bwd Packet Length Std', ' Fwd URG Flags', ' Fwd Header Length',\n",
      "       ' Bwd Packets/s', ' Bwd Packets/s', ' Min Packet Length',\n",
      "       ' Packet Length Mean', ' RST Flag Count', ' CWE Flag Count',\n",
      "       ' ECE Flag Count', ' Down/Up Ratio', ' Average Packet Size',\n",
      "       ' Avg Fwd Segment Size', ' Avg Bwd Segment Size', ' Fwd Avg Bulk Rate',\n",
      "       ' Bwd Avg Bytes/Bulk', 'Subflow Fwd Packets', ' Subflow Fwd Bytes',\n",
      "       ' Subflow Bwd Packets', ' Subflow Bwd Bytes', 'Init_Win_bytes_forward',\n",
      "       ' Init_Win_bytes_backward', ' act_data_pkt_fwd',\n",
      "       ' min_seg_size_forward', 'Active Mean', ' Active Std', ' Active Max',\n",
      "       ' Active Min', ' Idle Max'],\n",
      "      dtype='object')\n"
     ]
    }
   ],
   "source": [
    "print(X_train.columns)\n",
    "print(len(X_train.columns))\n",
    "\n",
    "print(SecondTestDataset.columns)\n",
    "print(len(SecondTestDataset.columns))\n",
    "\n",
    "SecondTestDataset = SecondTestDataset.rename(columns=column_mapping, inplace=False)\n",
    "print(SecondTestDataset.columns)\n"
   ]
  },
  {
   "cell_type": "code",
   "execution_count": 191,
   "id": "9b9bf3a4",
   "metadata": {},
   "outputs": [
    {
     "name": "stderr",
     "output_type": "stream",
     "text": [
      "C:\\Users\\user\\anaconda3\\Lib\\site-packages\\sklearn\\base.py:493: FutureWarning: The feature names should match those that were passed during fit. Starting version 1.2, an error will be raised.\n",
      "Feature names seen at fit time, yet now missing:\n",
      "-  Bwd Header Length\n",
      "\n",
      "  warnings.warn(message, FutureWarning)\n"
     ]
    }
   ],
   "source": [
    "SecondOutput = clf.predict(SecondTestDataset)"
   ]
  },
  {
   "cell_type": "code",
   "execution_count": 192,
   "id": "a3d6b11c",
   "metadata": {},
   "outputs": [
    {
     "name": "stdout",
     "output_type": "stream",
     "text": [
      "[0 0 0 0 0 0 0 0 0 0 0 0 0 0 0 0 0 0 0 0 0 0 0 0 0 0 0 0 0 0 0 0 0 0 0 0 0\n",
      " 0 0 0 0 0 0 0 0 0 0 0 0 0 0 0 0 0 0 0 0 0 0 0 0 0 0 0 0 0 0 0 0 0 0 0 0 0\n",
      " 0 0 0 0 0 0 0 0 0 0 0 0 0 0 0 0 0 0 0 0 0 0]\n"
     ]
    }
   ],
   "source": [
    "print(SecondOutput)"
   ]
  },
  {
   "cell_type": "code",
   "execution_count": 8,
   "id": "a30bff63",
   "metadata": {},
   "outputs": [],
   "source": [
    "ClassDataset = pd.read_csv(\"ClassDataset.csv\")"
   ]
  },
  {
   "cell_type": "code",
   "execution_count": 30,
   "id": "cf3367a5",
   "metadata": {},
   "outputs": [
    {
     "name": "stdout",
     "output_type": "stream",
     "text": [
      "Index([' Total Fwd Packets', ' Total Backward Packets',\n",
      "       ' Total Length of Bwd Packets', ' Fwd Packet Length Max',\n",
      "       ' Fwd Packet Length Min', ' Fwd Packet Length Mean',\n",
      "       ' Fwd Packet Length Std', 'Bwd Packet Length Max',\n",
      "       ' Bwd Packet Length Min', ' Bwd Packet Length Mean',\n",
      "       ' Bwd Packet Length Std', ' Fwd Header Length', ' Bwd Header Length',\n",
      "       ' Bwd Packets/s', ' Min Packet Length', ' Packet Length Mean',\n",
      "       ' Average Packet Size', ' Avg Fwd Segment Size',\n",
      "       ' Avg Bwd Segment Size', 'Subflow Fwd Packets', ' Subflow Fwd Bytes',\n",
      "       ' Subflow Bwd Packets', ' Subflow Bwd Bytes', 'Init_Win_bytes_forward',\n",
      "       ' Init_Win_bytes_backward', ' act_data_pkt_fwd',\n",
      "       ' min_seg_size_forward', 'Active Mean', ' Active Std', ' Active Max',\n",
      "       ' Active Min', ' Idle Max', 'Category', 'Label'],\n",
      "      dtype='object')\n"
     ]
    }
   ],
   "source": [
    "OldNames = ClassDataset.columns\n",
    "print(ClassDataset.columns)"
   ]
  },
  {
   "cell_type": "code",
   "execution_count": 29,
   "id": "59bd64dd",
   "metadata": {},
   "outputs": [],
   "source": [
    "drop = [' Fwd URG Flags', ' RST Flag Count',  ' CWE Flag Count', ' ECE Flag Count',\n",
    "       ' Down/Up Ratio', ' Fwd Avg Bulk Rate']\n",
    "\n",
    "ClassDataset.drop(columns=drop, inplace=True)"
   ]
  },
  {
   "cell_type": "code",
   "execution_count": 117,
   "id": "4db0fd2a",
   "metadata": {},
   "outputs": [],
   "source": [
    "FullDataset.drop_duplicates(inplace=True)"
   ]
  },
  {
   "cell_type": "code",
   "execution_count": 37,
   "id": "c5eb8ecb",
   "metadata": {},
   "outputs": [],
   "source": [
    "X = ClassDataset.drop(columns=['Label'])\n",
    "y = ClassDataset['Label'] \n",
    "\n",
    "DetectionDataset_train, DetectionDataset_test, DetectionLabel_train, DetectionLabel_test = train_test_split(X, y, test_size=0.2, random_state=42)"
   ]
  },
  {
   "cell_type": "code",
   "execution_count": 24,
   "id": "40e23035",
   "metadata": {},
   "outputs": [],
   "source": [
    "NewNames = ['Tot Fwd Pkts','Tot Bwd Pkts','TotLen Bwd Pkts','Fwd Pkt Len Max',\n",
    "                   'Fwd Pkt Len Min', 'Fwd Pkt Len Mean', 'Fwd Pkt Len Std',\n",
    "                   'Bwd Pkt Len Max', 'Bwd Pkt Len Min', 'Bwd Pkt Len Mean',\n",
    "                   'Bwd Pkt Len Std','Fwd Header Len','Bwd Header Len',\n",
    "                   'Bwd Header Len','Bwd Pkts/s','Pkt Len Min',\n",
    "                   'Pkt Size Avg',\n",
    "                   'Fwd Seg Size Avg', 'Bwd Seg Size Avg',\n",
    "                   'Subflow Fwd Pkts','Subflow Fwd Byts', 'Subflow Bwd Pkts', 'Subflow Bwd Byts',\n",
    "                   'Init Fwd Win Byts', 'Init Bwd Win Byts','Fwd Act Data Pkts','Fwd Seg Size Min',\n",
    "                   'Active Mean', 'Active Std', 'Active Max','Active Min','Idle Max']"
   ]
  },
  {
   "cell_type": "code",
   "execution_count": 31,
   "id": "dee8e106",
   "metadata": {},
   "outputs": [],
   "source": [
    "column_mapping = dict(zip(OldNames, NewNames ))"
   ]
  },
  {
   "cell_type": "code",
   "execution_count": 32,
   "id": "fddd696c",
   "metadata": {},
   "outputs": [
    {
     "name": "stdout",
     "output_type": "stream",
     "text": [
      "{' Total Fwd Packets': 'Tot Fwd Pkts', ' Total Backward Packets': 'Tot Bwd Pkts', ' Total Length of Bwd Packets': 'TotLen Bwd Pkts', ' Fwd Packet Length Max': 'Fwd Pkt Len Max', ' Fwd Packet Length Min': 'Fwd Pkt Len Min', ' Fwd Packet Length Mean': 'Fwd Pkt Len Mean', ' Fwd Packet Length Std': 'Fwd Pkt Len Std', 'Bwd Packet Length Max': 'Bwd Pkt Len Max', ' Bwd Packet Length Min': 'Bwd Pkt Len Min', ' Bwd Packet Length Mean': 'Bwd Pkt Len Mean', ' Bwd Packet Length Std': 'Bwd Pkt Len Std', ' Fwd Header Length': 'Fwd Header Len', ' Bwd Header Length': 'Bwd Header Len', ' Bwd Packets/s': 'Bwd Header Len', ' Min Packet Length': 'Bwd Pkts/s', ' Packet Length Mean': 'Pkt Len Min', ' Average Packet Size': 'Pkt Size Avg', ' Avg Fwd Segment Size': 'Fwd Seg Size Avg', ' Avg Bwd Segment Size': 'Bwd Seg Size Avg', 'Subflow Fwd Packets': 'Subflow Fwd Pkts', ' Subflow Fwd Bytes': 'Subflow Fwd Byts', ' Subflow Bwd Packets': 'Subflow Bwd Pkts', ' Subflow Bwd Bytes': 'Subflow Bwd Byts', 'Init_Win_bytes_forward': 'Init Fwd Win Byts', ' Init_Win_bytes_backward': 'Init Bwd Win Byts', ' act_data_pkt_fwd': 'Fwd Act Data Pkts', ' min_seg_size_forward': 'Fwd Seg Size Min', 'Active Mean': 'Active Mean', ' Active Std': 'Active Std', ' Active Max': 'Active Max', ' Active Min': 'Active Min', ' Idle Max': 'Idle Max'}\n"
     ]
    }
   ],
   "source": [
    "print(column_mapping)"
   ]
  },
  {
   "cell_type": "code",
   "execution_count": 33,
   "id": "5589da74",
   "metadata": {},
   "outputs": [
    {
     "name": "stdout",
     "output_type": "stream",
     "text": [
      "Index(['Tot Fwd Pkts', 'Tot Bwd Pkts', 'TotLen Bwd Pkts', 'Fwd Pkt Len Max',\n",
      "       'Fwd Pkt Len Min', 'Fwd Pkt Len Mean', 'Fwd Pkt Len Std',\n",
      "       'Bwd Pkt Len Max', 'Bwd Pkt Len Min', 'Bwd Pkt Len Mean',\n",
      "       'Bwd Pkt Len Std', 'Fwd Header Len', 'Bwd Header Len', 'Bwd Header Len',\n",
      "       'Bwd Pkts/s', 'Pkt Len Min', 'Pkt Size Avg', 'Fwd Seg Size Avg',\n",
      "       'Bwd Seg Size Avg', 'Subflow Fwd Pkts', 'Subflow Fwd Byts',\n",
      "       'Subflow Bwd Pkts', 'Subflow Bwd Byts', 'Init Fwd Win Byts',\n",
      "       'Init Bwd Win Byts', 'Fwd Act Data Pkts', 'Fwd Seg Size Min',\n",
      "       'Active Mean', 'Active Std', 'Active Max', 'Active Min', 'Idle Max',\n",
      "       'Category', 'Label'],\n",
      "      dtype='object')\n"
     ]
    }
   ],
   "source": [
    "ClassDataset = ClassDataset.rename(columns=column_mapping, inplace=False)\n",
    "\n",
    "print(ClassDataset.columns)"
   ]
  },
  {
   "cell_type": "code",
   "execution_count": 38,
   "id": "36c9e27f",
   "metadata": {},
   "outputs": [],
   "source": [
    "import os\n",
    "\n",
    "# Create a folder to save the datasets\n",
    "folder_name = \"Detection Model Sets\"\n",
    "os.makedirs(folder_name, exist_ok=True)\n",
    "\n",
    "# Save the training and testing datasets along with labels\n",
    "DetectionDataset_train.to_csv(os.path.join(folder_name, \"DetectionDataset_train.csv\"), index=False)\n",
    "DetectionDataset_test.to_csv(os.path.join(folder_name, \"DetectionDataset_test.csv\"), index=False)\n",
    "DetectionLabel_train.to_csv(os.path.join(folder_name, \"DetectionLabel_train.csv\"), index=False)\n",
    "DetectionLabel_test.to_csv(os.path.join(folder_name, \"DetectionLabel_test.csv\"), index=False)\n"
   ]
  },
  {
   "cell_type": "code",
   "execution_count": 36,
   "id": "9e5d885c",
   "metadata": {},
   "outputs": [],
   "source": [
    "ClassDataset = ClassDataset.drop(columns=['Category'])"
   ]
  },
  {
   "cell_type": "code",
   "execution_count": 39,
   "id": "3ab12d9b",
   "metadata": {},
   "outputs": [
    {
     "name": "stdout",
     "output_type": "stream",
     "text": [
      "<bound method NDFrame.head of          Tot Fwd Pkts  Tot Bwd Pkts  TotLen Bwd Pkts  Fwd Pkt Len Max  \\\n",
      "0                   2             0                0                6   \n",
      "1                   1             1                6                6   \n",
      "2                   1             1                6                6   \n",
      "3                   1             1                6                6   \n",
      "4                   2             0                0                6   \n",
      "...               ...           ...              ...              ...   \n",
      "2830736             5             5             3525              672   \n",
      "2830737             1             1                0                0   \n",
      "2830738             4             2              152               28   \n",
      "2830741             6             2              256               32   \n",
      "2830742             4             2              226               47   \n",
      "\n",
      "         Fwd Pkt Len Min  Fwd Pkt Len Mean  Fwd Pkt Len Std  Bwd Pkt Len Max  \\\n",
      "0                      6               6.0         0.000000                0   \n",
      "1                      6               6.0         0.000000                6   \n",
      "2                      6               6.0         0.000000                6   \n",
      "3                      6               6.0         0.000000                6   \n",
      "4                      6               6.0         0.000000                0   \n",
      "...                  ...               ...              ...              ...   \n",
      "2830736                0             134.4       300.527536             2077   \n",
      "2830737                0               0.0         0.000000                0   \n",
      "2830738               28              28.0         0.000000               76   \n",
      "2830741               32              32.0         0.000000              128   \n",
      "2830742               47              47.0         0.000000              113   \n",
      "\n",
      "         Bwd Pkt Len Min  Bwd Pkt Len Mean  ...  Init Fwd Win Byts  \\\n",
      "0                      0               0.0  ...                 33   \n",
      "1                      6               6.0  ...                 29   \n",
      "2                      6               6.0  ...                 29   \n",
      "3                      6               6.0  ...                 31   \n",
      "4                      0               0.0  ...                 32   \n",
      "...                  ...               ...  ...                ...   \n",
      "2830736                0             705.0  ...              29200   \n",
      "2830737                0               0.0  ...                  3   \n",
      "2830738               76              76.0  ...                 -1   \n",
      "2830741              128             128.0  ...                 -1   \n",
      "2830742              113             113.0  ...                 -1   \n",
      "\n",
      "         Init Bwd Win Byts  Fwd Act Data Pkts  Fwd Seg Size Min  Active Mean  \\\n",
      "0                       -1                  1                20          0.0   \n",
      "1                      256                  0                20          0.0   \n",
      "2                      256                  0                20          0.0   \n",
      "3                      329                  0                20          0.0   \n",
      "4                       -1                  1                20          0.0   \n",
      "...                    ...                ...               ...          ...   \n",
      "2830736                237                  1                32        821.0   \n",
      "2830737                229                  0                32          0.0   \n",
      "2830738                 -1                  3                20          0.0   \n",
      "2830741                 -1                  5                20          0.0   \n",
      "2830742                 -1                  3                20          0.0   \n",
      "\n",
      "         Active Std  Active Max  Active Min  Idle Max  Label  \n",
      "0               0.0           0           0         0      0  \n",
      "1               0.0           0           0         0      0  \n",
      "2               0.0           0           0         0      0  \n",
      "3               0.0           0           0         0      0  \n",
      "4               0.0           0           0         0      0  \n",
      "...             ...         ...         ...       ...    ...  \n",
      "2830736         0.0         821         821   6506213      1  \n",
      "2830737         0.0           0           0         0      0  \n",
      "2830738         0.0           0           0         0      0  \n",
      "2830741         0.0           0           0         0      0  \n",
      "2830742         0.0           0           0         0      0  \n",
      "\n",
      "[1942189 rows x 33 columns]>\n"
     ]
    }
   ],
   "source": [
    "print(ClassDataset.head)"
   ]
  },
  {
   "cell_type": "code",
   "execution_count": 46,
   "id": "31834f0c",
   "metadata": {},
   "outputs": [],
   "source": [
    "FullDataset = pd.read_csv(\"FullDataset.csv\")"
   ]
  },
  {
   "cell_type": "code",
   "execution_count": 47,
   "id": "6649f661",
   "metadata": {},
   "outputs": [],
   "source": [
    "FullDataset.drop_duplicates(inplace=True)"
   ]
  },
  {
   "cell_type": "code",
   "execution_count": 89,
   "id": "c9664523",
   "metadata": {},
   "outputs": [
    {
     "name": "stdout",
     "output_type": "stream",
     "text": [
      "Index([' Destination Port', ' Flow Duration', ' Total Fwd Packets',\n",
      "       ' Total Backward Packets', 'Total Length of Fwd Packets',\n",
      "       ' Total Length of Bwd Packets', ' Fwd Packet Length Max',\n",
      "       ' Fwd Packet Length Min', ' Fwd Packet Length Mean',\n",
      "       ' Fwd Packet Length Std', 'Bwd Packet Length Max',\n",
      "       ' Bwd Packet Length Min', ' Bwd Packet Length Mean',\n",
      "       ' Bwd Packet Length Std', 'FlowBytes', 'FlowPackets', ' Flow IAT Mean',\n",
      "       ' Flow IAT Std', ' Flow IAT Max', ' Flow IAT Min', 'Fwd IAT Total',\n",
      "       ' Fwd IAT Mean', ' Fwd IAT Std', ' Fwd IAT Max', ' Fwd IAT Min',\n",
      "       'Bwd IAT Total', ' Bwd IAT Mean', ' Bwd IAT Std', ' Bwd IAT Max',\n",
      "       ' Bwd IAT Min', 'Fwd PSH Flags', ' Bwd PSH Flags', ' Fwd URG Flags',\n",
      "       ' Bwd URG Flags', ' Fwd Header Length', ' Bwd Header Length',\n",
      "       'FwdPackets', 'BwdPackets', ' Min Packet Length', ' Max Packet Length',\n",
      "       ' Packet Length Mean', ' Packet Length Std', ' Packet Length Variance',\n",
      "       'FIN Flag Count', ' SYN Flag Count', ' RST Flag Count',\n",
      "       ' PSH Flag Count', ' ACK Flag Count', ' URG Flag Count',\n",
      "       ' CWE Flag Count', ' ECE Flag Count', ' Down Up Ratio',\n",
      "       ' Average Packet Size', ' Avg Fwd Segment Size',\n",
      "       ' Avg Bwd Segment Size', ' Fwd Header Length.1', 'Fwd Avg Bytes Bulk',\n",
      "       'Fwd Avg Packets Bulk', ' Fwd Avg Bulk Rate', 'Bwd Avg Bytes Bulk',\n",
      "       'Bwd Avg Packets Bulk', 'Bwd Avg Bulk Rate', 'Subflow Fwd Packets',\n",
      "       ' Subflow Fwd Bytes', ' Subflow Bwd Packets', ' Subflow Bwd Bytes',\n",
      "       'Init_Win_bytes_forward', ' Init_Win_bytes_backward',\n",
      "       ' act_data_pkt_fwd', ' min_seg_size_forward', 'Active Mean',\n",
      "       ' Active Std', ' Active Max', ' Active Min', 'Idle Mean', ' Idle Std',\n",
      "       ' Idle Max', ' Idle Min', 'Category', 'Label'],\n",
      "      dtype='object')\n"
     ]
    }
   ],
   "source": [
    "print(FullDataset.columns)"
   ]
  },
  {
   "cell_type": "code",
   "execution_count": 90,
   "id": "1ab3e3fa",
   "metadata": {},
   "outputs": [],
   "source": [
    "\n",
    "droppedcolumnsforclassifications = [' Total Fwd Packets',' Total Backward Packets', \n",
    "                                    ' Total Length of Bwd Packets',' Bwd Packet Length Min',\n",
    "                                    'Fwd PSH Flags',' Bwd PSH Flags',' Fwd URG Flags',' Bwd URG Flags',\n",
    "                                    ' Fwd Header Length',' Bwd Header Length',' RST Flag Count',\n",
    "                                    ' PSH Flag Count',' ACK Flag Count', ' URG Flag Count', \n",
    "                                    ' CWE Flag Count', ' ECE Flag Count', ' Down Up Ratio',\n",
    "                                    ' Fwd Header Length.1','Fwd Avg Bytes Bulk', 'Fwd Avg Packets Bulk',\n",
    "                                    ' Fwd Avg Bulk Rate', 'Bwd Avg Bytes Bulk', 'Bwd Avg Packets Bulk',\n",
    "                                    'Bwd Avg Bulk Rate','Subflow Fwd Packets',' Subflow Fwd Bytes',\n",
    "                                    'Init_Win_bytes_forward',' Init_Win_bytes_backward',' act_data_pkt_fwd',\n",
    "                                    ' min_seg_size_forward', 'Label', 'FlowBytes', ' Fwd Header Length.1',\n",
    "                                   'FIN Flag Count', ' SYN Flag Count']\n",
    "ClassDataset = FullDataset.drop(droppedcolumnsforclassifications, axis=1)"
   ]
  },
  {
   "cell_type": "code",
   "execution_count": 91,
   "id": "aa8b294a",
   "metadata": {},
   "outputs": [
    {
     "name": "stdout",
     "output_type": "stream",
     "text": [
      "Index([' Destination Port', ' Flow Duration', 'Total Length of Fwd Packets',\n",
      "       ' Fwd Packet Length Max', ' Fwd Packet Length Min',\n",
      "       ' Fwd Packet Length Mean', ' Fwd Packet Length Std',\n",
      "       'Bwd Packet Length Max', ' Bwd Packet Length Mean',\n",
      "       ' Bwd Packet Length Std', 'FlowPackets', ' Flow IAT Mean',\n",
      "       ' Flow IAT Std', ' Flow IAT Max', ' Flow IAT Min', 'Fwd IAT Total',\n",
      "       ' Fwd IAT Mean', ' Fwd IAT Std', ' Fwd IAT Max', ' Fwd IAT Min',\n",
      "       'Bwd IAT Total', ' Bwd IAT Mean', ' Bwd IAT Std', ' Bwd IAT Max',\n",
      "       ' Bwd IAT Min', 'FwdPackets', 'BwdPackets', ' Min Packet Length',\n",
      "       ' Max Packet Length', ' Packet Length Mean', ' Packet Length Std',\n",
      "       ' Packet Length Variance', ' Average Packet Size',\n",
      "       ' Avg Fwd Segment Size', ' Avg Bwd Segment Size',\n",
      "       ' Subflow Bwd Packets', ' Subflow Bwd Bytes', 'Active Mean',\n",
      "       ' Active Std', ' Active Max', ' Active Min', 'Idle Mean', ' Idle Std',\n",
      "       ' Idle Max', ' Idle Min', 'Category'],\n",
      "      dtype='object')\n"
     ]
    }
   ],
   "source": [
    "print(ClassDataset.columns)\n"
   ]
  },
  {
   "cell_type": "code",
   "execution_count": 63,
   "id": "3f28a767",
   "metadata": {},
   "outputs": [],
   "source": [
    "ClassDataset = ClassDataset[ClassDataset['Category'] !='BENIGN']"
   ]
  },
  {
   "cell_type": "code",
   "execution_count": 92,
   "id": "7b5190bd",
   "metadata": {},
   "outputs": [],
   "source": [
    "matched_items = {\n",
    "    ' Destination Port': 'Dst Port',\n",
    "    ' Flow Duration': 'Flow Duration',\n",
    "    'Total Length of Fwd Packets': 'TotLen Fwd Pkts',\n",
    "    ' Fwd Packet Length Max': 'Fwd Pkt Len Max',\n",
    "    ' Fwd Packet Length Min': 'Fwd Pkt Len Min',\n",
    "    ' Fwd Packet Length Mean': 'Fwd Pkt Len Mean',\n",
    "    ' Fwd Packet Length Std': 'Fwd Pkt Len Std',\n",
    "    'Bwd Packet Length Max': 'Bwd Pkt Len Max',\n",
    "    ' Bwd Packet Length Mean': 'Bwd Pkt Len Mean',\n",
    "    ' Bwd Packet Length Std': 'Bwd Pkt Len Std',\n",
    "    ' Flow IAT Mean': 'Flow IAT Mean',\n",
    "    ' Flow IAT Std': 'Flow IAT Std',\n",
    "    ' Flow IAT Max': 'Flow IAT Max',\n",
    "    ' Flow IAT Min': 'Flow IAT Min',\n",
    "    'Fwd IAT Total': 'Fwd IAT Tot',\n",
    "    ' Fwd IAT Mean': 'Fwd IAT Mean',\n",
    "    ' Fwd IAT Std': 'Fwd IAT Std',\n",
    "    ' Fwd IAT Max': 'Fwd IAT Max',\n",
    "    ' Fwd IAT Min': 'Fwd IAT Min',\n",
    "    'Bwd IAT Total': 'Bwd IAT Tot',\n",
    "    ' Bwd IAT Mean': 'Bwd IAT Mean',\n",
    "    ' Bwd IAT Std': 'Bwd IAT Std',\n",
    "    ' Bwd IAT Max': 'Bwd IAT Max',\n",
    "    ' Bwd IAT Min': 'Bwd IAT Min',\n",
    "    ' Min Packet Length': 'Pkt Len Min',\n",
    "    ' Max Packet Length': 'Pkt Len Max',\n",
    "    ' Packet Length Mean': 'Pkt Len Mean',\n",
    "    ' Packet Length Std': 'Pkt Len Std',\n",
    "    ' Packet Length Variance': 'Pkt Len Var',\n",
    "    ' Average Packet Size': 'Pkt Size Avg',\n",
    "    ' Avg Fwd Segment Size': 'Fwd Seg Size Avg',\n",
    "    ' Avg Bwd Segment Size': 'Bwd Seg Size Avg',\n",
    "    ' Subflow Bwd Packets': 'Subflow Bwd Pkts',\n",
    "    ' Subflow Bwd Bytes': 'Subflow Bwd Byts',\n",
    "    ' Active Mean': 'Active Mean',\n",
    "    ' Active Std': 'Active Std',\n",
    "    ' Active Max': 'Active Max',\n",
    "    ' Active Min': 'Active Min',\n",
    "    ' Idle Mean': 'Idle Mean',\n",
    "    ' Idle Std': 'Idle Std',\n",
    "    ' Idle Max': 'Idle Max',\n",
    "    ' Idle Min': 'Idle Min',\n",
    "    'FlowPackets': 'Flow Pkts/s',\n",
    "    'FwdPackets': 'Fwd Pkts/s',\n",
    "    'BwdPackets': 'Bwd Pkts/s'\n",
    "}\n"
   ]
  },
  {
   "cell_type": "code",
   "execution_count": 67,
   "id": "bbe7a19f",
   "metadata": {},
   "outputs": [],
   "source": [
    "swapped_dict = {v.strip(): k.strip() for k, v in matched_items.items()}\n",
    "\n",
    "# Add 'Category' to the dictionary to ensure it doesn't get renamed\n",
    "swapped_dict['Category'] = 'Category'\n",
    "\n",
    "# Rename columns in the DataFrame using the swapped dictionary\n",
    "ClassDataset.rename(columns=swapped_dict, inplace=True)"
   ]
  },
  {
   "cell_type": "code",
   "execution_count": 68,
   "id": "3a92f275",
   "metadata": {},
   "outputs": [
    {
     "name": "stdout",
     "output_type": "stream",
     "text": [
      "Index([' Destination Port', ' Flow Duration', 'Total Length of Fwd Packets',\n",
      "       ' Fwd Packet Length Max', ' Fwd Packet Length Min',\n",
      "       ' Fwd Packet Length Mean', ' Fwd Packet Length Std',\n",
      "       'Bwd Packet Length Max', ' Bwd Packet Length Mean',\n",
      "       ' Bwd Packet Length Std', 'FlowPackets', ' Flow IAT Mean',\n",
      "       ' Flow IAT Std', ' Flow IAT Max', ' Flow IAT Min', 'Fwd IAT Total',\n",
      "       ' Fwd IAT Mean', ' Fwd IAT Std', ' Fwd IAT Max', ' Fwd IAT Min',\n",
      "       'Bwd IAT Total', ' Bwd IAT Mean', ' Bwd IAT Std', ' Bwd IAT Max',\n",
      "       ' Bwd IAT Min', 'FwdPackets', 'BwdPackets', ' Min Packet Length',\n",
      "       ' Max Packet Length', ' Packet Length Mean', ' Packet Length Std',\n",
      "       ' Packet Length Variance', ' Average Packet Size',\n",
      "       ' Avg Fwd Segment Size', ' Avg Bwd Segment Size',\n",
      "       ' Subflow Bwd Packets', ' Subflow Bwd Bytes', ' Active Mean',\n",
      "       ' Active Std', ' Active Max', ' Active Min', ' Idle Mean', ' Idle Std',\n",
      "       ' Idle Max', ' Idle Min', 'Category'],\n",
      "      dtype='object')\n"
     ]
    }
   ],
   "source": [
    "print(ClassDataset.columns)"
   ]
  },
  {
   "cell_type": "code",
   "execution_count": 101,
   "id": "06f5f618",
   "metadata": {},
   "outputs": [
    {
     "name": "stdout",
     "output_type": "stream",
     "text": [
      "Before renaming: ['Dst Port', 'Flow Duration', 'TotLen Fwd Pkts', 'Fwd Pkt Len Max', 'Fwd Pkt Len Min', 'Fwd Pkt Len Mean', 'Fwd Pkt Len Std', 'Bwd Pkt Len Max', 'Bwd Pkt Len Mean', 'Bwd Pkt Len Std', 'Flow Pkts/s', 'Flow IAT Mean', 'Flow IAT Std', 'Flow IAT Max', 'Flow IAT Min', 'Fwd IAT Tot', 'Fwd IAT Mean', 'Fwd IAT Std', 'Fwd IAT Max', 'Fwd IAT Min', 'Bwd IAT Tot', 'Bwd IAT Mean', 'Bwd IAT Std', 'Bwd IAT Max', 'Bwd IAT Min', 'Fwd Pkts/s', 'Bwd Pkts/s', 'Pkt Len Min', 'Pkt Len Max', 'Pkt Len Mean', 'Pkt Len Std', 'Pkt Len Var', 'Pkt Size Avg', 'Fwd Seg Size Avg', 'Bwd Seg Size Avg', 'Subflow Bwd Pkts', 'Subflow Bwd Byts', 'Active Mean', 'Active Std', 'Active Max', 'Active Min', 'Idle Mean', 'Idle Std', 'Idle Max', 'Idle Min', 'Category']\n",
      "After renaming: ['Destination Port', 'Flow Duration', 'Total Length of Fwd Packets', 'Fwd Packet Length Max', 'Fwd Packet Length Min', 'Fwd Packet Length Mean', 'Fwd Packet Length Std', 'Bwd Packet Length Max', 'Bwd Packet Length Mean', 'Bwd Packet Length Std', 'FlowPackets', 'Flow IAT Mean', 'Flow IAT Std', 'Flow IAT Max', 'Flow IAT Min', 'Fwd IAT Total', 'Fwd IAT Mean', 'Fwd IAT Std', 'Fwd IAT Max', 'Fwd IAT Min', 'Bwd IAT Total', 'Bwd IAT Mean', 'Bwd IAT Std', 'Bwd IAT Max', 'Bwd IAT Min', 'FwdPackets', 'BwdPackets', 'Min Packet Length', 'Max Packet Length', 'Packet Length Mean', 'Packet Length Std', 'Packet Length Variance', 'Average Packet Size', 'Avg Fwd Segment Size', 'Avg Bwd Segment Size', 'Subflow Bwd Packets', 'Subflow Bwd Bytes', 'Active Mean', 'Active Std', 'Active Max', 'Active Min', 'Idle Mean', 'Idle Std', 'Idle Max', 'Idle Min', 'Category']\n"
     ]
    }
   ],
   "source": [
    "print(\"Before renaming:\", ClassDataset.columns.tolist())\n",
    "ClassDataset.rename(columns=swapped_dict, inplace=True)\n",
    "print(\"After renaming:\", ClassDataset.columns.tolist())\n"
   ]
  },
  {
   "cell_type": "code",
   "execution_count": 73,
   "id": "acbe21f5",
   "metadata": {},
   "outputs": [
    {
     "name": "stdout",
     "output_type": "stream",
     "text": [
      "Dictionary Keys: dict_keys([' Destination Port', ' Flow Duration', 'Total Length of Fwd Packets', ' Fwd Packet Length Max', ' Fwd Packet Length Min', ' Fwd Packet Length Mean', ' Fwd Packet Length Std', 'Bwd Packet Length Max', ' Bwd Packet Length Mean', ' Bwd Packet Length Std', ' Flow IAT Mean', ' Flow IAT Std', ' Flow IAT Max', ' Flow IAT Min', 'Fwd IAT Total', ' Fwd IAT Mean', ' Fwd IAT Std', ' Fwd IAT Max', ' Fwd IAT Min', 'Bwd IAT Total', ' Bwd IAT Mean', ' Bwd IAT Std', ' Bwd IAT Max', ' Bwd IAT Min', ' Min Packet Length', ' Max Packet Length', ' Packet Length Mean', ' Packet Length Std', ' Packet Length Variance', ' Average Packet Size', ' Avg Fwd Segment Size', ' Avg Bwd Segment Size', ' Subflow Bwd Packets', ' Subflow Bwd Bytes', ' Active Mean', ' Active Std', ' Active Max', ' Active Min', ' Idle Mean', ' Idle Std', ' Idle Max', ' Idle Min', 'FlowPackets', 'FwdPackets', 'BwdPackets'])\n",
      "Dictionary Values: dict_values(['Dst Port', 'Flow Duration', 'TotLen Fwd Pkts', 'Fwd Pkt Len Max', 'Fwd Pkt Len Min', 'Fwd Pkt Len Mean', 'Fwd Pkt Len Std', 'Bwd Pkt Len Max', 'Bwd Pkt Len Mean', 'Bwd Pkt Len Std', 'Flow IAT Mean', 'Flow IAT Std', 'Flow IAT Max', 'Flow IAT Min', 'Fwd IAT Tot', 'Fwd IAT Mean', 'Fwd IAT Std', 'Fwd IAT Max', 'Fwd IAT Min', 'Bwd IAT Tot', 'Bwd IAT Mean', 'Bwd IAT Std', 'Bwd IAT Max', 'Bwd IAT Min', 'Pkt Len Min', 'Pkt Len Max', 'Pkt Len Mean', 'Pkt Len Std', 'Pkt Len Var', 'Pkt Size Avg', 'Fwd Seg Size Avg', 'Bwd Seg Size Avg', 'Subflow Bwd Pkts', 'Subflow Bwd Byts', 'Active Mean', 'Active Std', 'Active Max', 'Active Min', 'Idle Mean', 'Idle Std', 'Idle Max', 'Idle Min', 'Flow Pkts/s', 'Fwd Pkts/s', 'Bwd Pkts/s'])\n",
      "Column Names in DataFrame: [' Destination Port', ' Flow Duration', 'TotLen Fwd Pkts', ' Fwd Packet Length Max', ' Fwd Packet Length Min', ' Fwd Packet Length Mean', ' Fwd Packet Length Std', 'Bwd Pkt Len Max', ' Bwd Packet Length Mean', ' Bwd Packet Length Std', 'Flow Pkts/s', ' Flow IAT Mean', ' Flow IAT Std', ' Flow IAT Max', ' Flow IAT Min', 'Fwd IAT Tot', ' Fwd IAT Mean', ' Fwd IAT Std', ' Fwd IAT Max', ' Fwd IAT Min', 'Bwd IAT Tot', ' Bwd IAT Mean', ' Bwd IAT Std', ' Bwd IAT Max', ' Bwd IAT Min', 'Fwd Pkts/s', 'Bwd Pkts/s', ' Min Packet Length', ' Max Packet Length', ' Packet Length Mean', ' Packet Length Std', ' Packet Length Variance', ' Average Packet Size', ' Avg Fwd Segment Size', ' Avg Bwd Segment Size', ' Subflow Bwd Packets', ' Subflow Bwd Bytes', ' Active Mean', ' Active Std', ' Active Max', ' Active Min', ' Idle Mean', ' Idle Std', ' Idle Max', ' Idle Min', 'Category']\n"
     ]
    }
   ],
   "source": [
    "# Print dictionary keys and values\n",
    "print(\"Dictionary Keys:\", matched_items.keys())\n",
    "print(\"Dictionary Values:\", matched_items.values())\n",
    "\n",
    "# Print column names in DataFrame\n",
    "print(\"Column Names in DataFrame:\", ClassDataset.columns.tolist())\n",
    "\n",
    "\n"
   ]
  },
  {
   "cell_type": "code",
   "execution_count": 71,
   "id": "a3bbcae4",
   "metadata": {},
   "outputs": [],
   "source": [
    "# Remove leading spaces from dictionary keys\n",
    "matched_items_stripped = {k.strip(): v for k, v in matched_items.items()}\n",
    "\n",
    "# Rename columns in the DataFrame using the corrected dictionary\n",
    "ClassDataset.rename(columns=matched_items_stripped, inplace=True)\n"
   ]
  },
  {
   "cell_type": "code",
   "execution_count": 75,
   "id": "ae493406",
   "metadata": {},
   "outputs": [],
   "source": [
    "# Iterate over DataFrame columns\n",
    "for col in ClassDataset.columns:\n",
    "    # Check if the column is in the dictionary keys\n",
    "    if col.strip() in matched_items:\n",
    "        # Rename the column using the corresponding value from the dictionary\n",
    "        ClassDataset.rename(columns={col: matched_items[col.strip()]}, inplace=True)\n"
   ]
  },
  {
   "cell_type": "code",
   "execution_count": 76,
   "id": "a4008962",
   "metadata": {},
   "outputs": [
    {
     "name": "stdout",
     "output_type": "stream",
     "text": [
      "Index([' Destination Port', ' Flow Duration', 'TotLen Fwd Pkts',\n",
      "       ' Fwd Packet Length Max', ' Fwd Packet Length Min',\n",
      "       ' Fwd Packet Length Mean', ' Fwd Packet Length Std', 'Bwd Pkt Len Max',\n",
      "       ' Bwd Packet Length Mean', ' Bwd Packet Length Std', 'Flow Pkts/s',\n",
      "       ' Flow IAT Mean', ' Flow IAT Std', ' Flow IAT Max', ' Flow IAT Min',\n",
      "       'Fwd IAT Tot', ' Fwd IAT Mean', ' Fwd IAT Std', ' Fwd IAT Max',\n",
      "       ' Fwd IAT Min', 'Bwd IAT Tot', ' Bwd IAT Mean', ' Bwd IAT Std',\n",
      "       ' Bwd IAT Max', ' Bwd IAT Min', 'Fwd Pkts/s', 'Bwd Pkts/s',\n",
      "       ' Min Packet Length', ' Max Packet Length', ' Packet Length Mean',\n",
      "       ' Packet Length Std', ' Packet Length Variance', ' Average Packet Size',\n",
      "       ' Avg Fwd Segment Size', ' Avg Bwd Segment Size',\n",
      "       ' Subflow Bwd Packets', ' Subflow Bwd Bytes', ' Active Mean',\n",
      "       ' Active Std', ' Active Max', ' Active Min', ' Idle Mean', ' Idle Std',\n",
      "       ' Idle Max', ' Idle Min', 'Category'],\n",
      "      dtype='object')\n"
     ]
    }
   ],
   "source": [
    "print(ClassDataset.columns)"
   ]
  },
  {
   "cell_type": "code",
   "execution_count": 77,
   "id": "2490a84d",
   "metadata": {},
   "outputs": [
    {
     "name": "stdout",
     "output_type": "stream",
     "text": [
      "{' Destination Port': 'Dst Port', ' Flow Duration': 'Flow Duration', 'Total Length of Fwd Packets': 'TotLen Fwd Pkts', ' Fwd Packet Length Max': 'Fwd Pkt Len Max', ' Fwd Packet Length Min': 'Fwd Pkt Len Min', ' Fwd Packet Length Mean': 'Fwd Pkt Len Mean', ' Fwd Packet Length Std': 'Fwd Pkt Len Std', 'Bwd Packet Length Max': 'Bwd Pkt Len Max', ' Bwd Packet Length Mean': 'Bwd Pkt Len Mean', ' Bwd Packet Length Std': 'Bwd Pkt Len Std', ' Flow IAT Mean': 'Flow IAT Mean', ' Flow IAT Std': 'Flow IAT Std', ' Flow IAT Max': 'Flow IAT Max', ' Flow IAT Min': 'Flow IAT Min', 'Fwd IAT Total': 'Fwd IAT Tot', ' Fwd IAT Mean': 'Fwd IAT Mean', ' Fwd IAT Std': 'Fwd IAT Std', ' Fwd IAT Max': 'Fwd IAT Max', ' Fwd IAT Min': 'Fwd IAT Min', 'Bwd IAT Total': 'Bwd IAT Tot', ' Bwd IAT Mean': 'Bwd IAT Mean', ' Bwd IAT Std': 'Bwd IAT Std', ' Bwd IAT Max': 'Bwd IAT Max', ' Bwd IAT Min': 'Bwd IAT Min', ' Min Packet Length': 'Pkt Len Min', ' Max Packet Length': 'Pkt Len Max', ' Packet Length Mean': 'Pkt Len Mean', ' Packet Length Std': 'Pkt Len Std', ' Packet Length Variance': 'Pkt Len Var', ' Average Packet Size': 'Pkt Size Avg', ' Avg Fwd Segment Size': 'Fwd Seg Size Avg', ' Avg Bwd Segment Size': 'Bwd Seg Size Avg', ' Subflow Bwd Packets': 'Subflow Bwd Pkts', ' Subflow Bwd Bytes': 'Subflow Bwd Byts', ' Active Mean': 'Active Mean', ' Active Std': 'Active Std', ' Active Max': 'Active Max', ' Active Min': 'Active Min', ' Idle Mean': 'Idle Mean', ' Idle Std': 'Idle Std', ' Idle Max': 'Idle Max', ' Idle Min': 'Idle Min', 'FlowPackets': 'Flow Pkts/s', 'FwdPackets': 'Fwd Pkts/s', 'BwdPackets': 'Bwd Pkts/s'}\n"
     ]
    }
   ],
   "source": [
    "print(matched_items)"
   ]
  },
  {
   "cell_type": "code",
   "execution_count": 93,
   "id": "93cc6f5c",
   "metadata": {},
   "outputs": [],
   "source": [
    "ClassDataset = ClassDataset.rename(columns=matched_items, inplace=False)"
   ]
  },
  {
   "cell_type": "code",
   "execution_count": 94,
   "id": "3c47f5ad",
   "metadata": {},
   "outputs": [
    {
     "name": "stdout",
     "output_type": "stream",
     "text": [
      "Index(['Dst Port', 'Flow Duration', 'TotLen Fwd Pkts', 'Fwd Pkt Len Max',\n",
      "       'Fwd Pkt Len Min', 'Fwd Pkt Len Mean', 'Fwd Pkt Len Std',\n",
      "       'Bwd Pkt Len Max', 'Bwd Pkt Len Mean', 'Bwd Pkt Len Std', 'Flow Pkts/s',\n",
      "       'Flow IAT Mean', 'Flow IAT Std', 'Flow IAT Max', 'Flow IAT Min',\n",
      "       'Fwd IAT Tot', 'Fwd IAT Mean', 'Fwd IAT Std', 'Fwd IAT Max',\n",
      "       'Fwd IAT Min', 'Bwd IAT Tot', 'Bwd IAT Mean', 'Bwd IAT Std',\n",
      "       'Bwd IAT Max', 'Bwd IAT Min', 'Fwd Pkts/s', 'Bwd Pkts/s', 'Pkt Len Min',\n",
      "       'Pkt Len Max', 'Pkt Len Mean', 'Pkt Len Std', 'Pkt Len Var',\n",
      "       'Pkt Size Avg', 'Fwd Seg Size Avg', 'Bwd Seg Size Avg',\n",
      "       'Subflow Bwd Pkts', 'Subflow Bwd Byts', 'Active Mean', 'Active Std',\n",
      "       'Active Max', 'Active Min', 'Idle Mean', 'Idle Std', 'Idle Max',\n",
      "       'Idle Min', 'Category'],\n",
      "      dtype='object')\n"
     ]
    }
   ],
   "source": [
    "print(ClassDataset.columns)"
   ]
  },
  {
   "cell_type": "code",
   "execution_count": 116,
   "id": "b577763d",
   "metadata": {},
   "outputs": [
    {
     "name": "stdout",
     "output_type": "stream",
     "text": [
      "Unique names in the 'Name' column: ['BENIGN' 'DDoS' 'PortScan' 'Bot' 'FTP-Patator' 'SSH-Patator'\n",
      " 'DoS slowloris' 'DoS Slowhttptest' 'DoS Hulk' 'Heartbleed']\n",
      "Unique names in the 'Name' column: ['BENIGN' 'DDoS' 'PortScan' 'Bot' 'FTP-Patator' 'SSH-Patator'\n",
      " 'DoS slowloris' 'DoS Slowhttptest' 'DoS Hulk' 'Heartbleed']\n"
     ]
    }
   ],
   "source": [
    "import pandas as pd\n",
    "\n",
    "\n",
    "# List unique names in the 'Name' column\n",
    "unique_names = FullDataset['Category'].unique()\n",
    "print(\"Unique names in the 'Name' column:\", unique_names)\n",
    "\n",
    "# List of names to drop\n",
    "names_to_drop = ['Web Attack � XSS', 'Web Attack � Brute Force', 'Web Attack � Sql Injection', 'DoS GoldenEye', 'Infiltration']\n",
    "\n",
    "# Drop rows where 'Name' column matches any of the names in the lis\n",
    "FullDataset = FullDataset[~FullDataset['Category'].isin(names_to_drop)]\n",
    "\n",
    "#Optional: Reset the index\n",
    "ClassDataset.reset_index(drop=True, inplace=True)\n",
    "\n",
    "# Save the filtered DataFrame to a new CSV file\n",
    "#df_filtered.to_csv('filtered_data.csv', index=False)\n",
    "#unique_names = ClassDataset['Category'].unique()\n",
    "print(\"Unique names in the 'Name' column:\", unique_names)"
   ]
  },
  {
   "cell_type": "code",
   "execution_count": 112,
   "id": "0dfab002",
   "metadata": {},
   "outputs": [],
   "source": [
    "X = ClassDataset.drop(columns=['Category'])\n",
    "y = ClassDataset['Category'] \n",
    "\n",
    "ClassificationDataset_train, ClassificationDataset_test, ClassificationLabel_train, ClassificationLabel_test = train_test_split(X, y, test_size=0.2, random_state=42)"
   ]
  },
  {
   "cell_type": "code",
   "execution_count": 113,
   "id": "e31fd4a0",
   "metadata": {},
   "outputs": [],
   "source": [
    "import os\n",
    "\n",
    "# Create a folder to save the datasets\n",
    "folder_name = \"Classification Model Sets\"\n",
    "os.makedirs(folder_name, exist_ok=True)\n",
    "\n",
    "# Save the training and testing datasets along with labels\n",
    "ClassificationDataset_train.to_csv(os.path.join(folder_name, \"ClassificationDataset_train.csv\"), index=False)\n",
    "ClassificationDataset_test.to_csv(os.path.join(folder_name, \"ClassificationDataset_test.csv\"), index=False)\n",
    "ClassificationLabel_train.to_csv(os.path.join(folder_name, \"ClassificationLabel_train.csv\"), index=False)\n",
    "ClassificationLabel_test.to_csv(os.path.join(folder_name, \"ClassificationLabel_test.csv\"), index=False)"
   ]
  },
  {
   "cell_type": "code",
   "execution_count": 95,
   "id": "2ecc9b0c",
   "metadata": {},
   "outputs": [],
   "source": [
    "import numpy as np\n",
    "\n",
    "# Define a threshold for large values\n",
    "threshold = 1e6  # Adjust the threshold as needed based on your data\n",
    "\n",
    "# Find indices of large values in the DataFrame\n",
    "large_indices = np.where(np.abs(ClassDataset.select_dtypes(include=np.number)) > threshold)\n",
    "\n",
    "# Drop rows containing large values\n",
    "ClassDataset.drop(index=ClassDataset.index[large_indices[0]], inplace=True)\n"
   ]
  },
  {
   "cell_type": "code",
   "execution_count": 100,
   "id": "823133da",
   "metadata": {},
   "outputs": [
    {
     "name": "stdout",
     "output_type": "stream",
     "text": [
      "Index(['Tot Fwd Pkts', 'Tot Bwd Pkts', 'TotLen Bwd Pkts', 'Fwd Pkt Len Max',\n",
      "       'Fwd Pkt Len Min', 'Fwd Pkt Len Mean', 'Fwd Pkt Len Std',\n",
      "       'Bwd Pkt Len Max', 'Bwd Pkt Len Min', 'Bwd Pkt Len Mean',\n",
      "       'Bwd Pkt Len Std', 'Fwd Header Len', 'Bwd Header Len', 'Bwd Header Len',\n",
      "       'Bwd Pkts/s', 'Pkt Len Min', 'Pkt Size Avg', 'Fwd Seg Size Avg',\n",
      "       'Bwd Seg Size Avg', 'Subflow Fwd Pkts', 'Subflow Fwd Byts',\n",
      "       'Subflow Bwd Pkts', 'Subflow Bwd Byts', 'Init Fwd Win Byts',\n",
      "       'Init Bwd Win Byts', 'Fwd Act Data Pkts', 'Fwd Seg Size Min',\n",
      "       'Active Mean', 'Active Std', 'Active Max', 'Active Min', 'Idle Max'],\n",
      "      dtype='object')\n"
     ]
    }
   ],
   "source": [
    "print(DetectionDataset_train.columns)"
   ]
  },
  {
   "cell_type": "code",
   "execution_count": 99,
   "id": "573aa808",
   "metadata": {},
   "outputs": [],
   "source": [
    "ClassificationFeatures = ['Dst Port', 'Flow Duration', 'TotLen Fwd Pkts', 'Fwd Pkt Len Max',\n",
    "       'Fwd Pkt Len Min', 'Fwd Pkt Len Mean', 'Fwd Pkt Len Std',\n",
    "       'Bwd Pkt Len Max', 'Bwd Pkt Len Mean', 'Bwd Pkt Len Std', 'Flow Pkts/s',\n",
    "       'Flow IAT Mean', 'Flow IAT Std', 'Flow IAT Max', 'Flow IAT Min',\n",
    "       'Fwd IAT Tot', 'Fwd IAT Mean', 'Fwd IAT Std', 'Fwd IAT Max',\n",
    "       'Fwd IAT Min', 'Bwd IAT Tot', 'Bwd IAT Mean', 'Bwd IAT Std',\n",
    "       'Bwd IAT Max', 'Bwd IAT Min', 'Fwd Pkts/s', 'Bwd Pkts/s', 'Pkt Len Min',\n",
    "       'Pkt Len Max', 'Pkt Len Mean', 'Pkt Len Std', 'Pkt Len Var',\n",
    "       'Pkt Size Avg', 'Fwd Seg Size Avg', 'Bwd Seg Size Avg',\n",
    "       'Subflow Bwd Pkts', 'Subflow Bwd Byts', 'Active Mean', 'Active Std',\n",
    "       'Active Max', 'Active Min', 'Idle Mean', 'Idle Std', 'Idle Max',\n",
    "       'Idle Min']"
   ]
  },
  {
   "cell_type": "code",
   "execution_count": null,
   "id": "bcc865cb",
   "metadata": {},
   "outputs": [],
   "source": []
  }
 ],
 "metadata": {
  "kernelspec": {
   "display_name": "Python 3 (ipykernel)",
   "language": "python",
   "name": "python3"
  },
  "language_info": {
   "codemirror_mode": {
    "name": "ipython",
    "version": 3
   },
   "file_extension": ".py",
   "mimetype": "text/x-python",
   "name": "python",
   "nbconvert_exporter": "python",
   "pygments_lexer": "ipython3",
   "version": "3.11.5"
  }
 },
 "nbformat": 4,
 "nbformat_minor": 5
}
