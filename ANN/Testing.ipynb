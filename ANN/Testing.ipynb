{
 "cells": [
  {
   "cell_type": "code",
   "execution_count": 1,
   "metadata": {},
   "outputs": [],
   "source": [
    "import tensorflow as tf\n",
    "from tensorflow.keras.models import Sequential\n",
    "from tensorflow.keras.layers import Dense\n",
    "from tensorflow.keras.activations import linear, relu, sigmoid\n",
    "import pandas as pd\n",
    "import numpy as np"
   ]
  },
  {
   "cell_type": "code",
   "execution_count": 2,
   "metadata": {},
   "outputs": [],
   "source": [
    "Model = tf.keras.models.load_model(r\"E:\\Projects\\Anomaly Detection\\Models\\ANN2.keras\")"
   ]
  },
  {
   "cell_type": "code",
   "execution_count": 3,
   "metadata": {},
   "outputs": [],
   "source": [
    "DataTraining = pd.read_csv(r\"E:\\Projects\\Anomaly Detection\\Dataset\\Model\\DataTraining.csv\")\n",
    "DataTesting = pd.read_csv(r\"E:\\Projects\\Anomaly Detection\\Dataset\\Model\\DataTesting.csv\")\n",
    "LabelTraining = pd.read_csv(r\"E:\\Projects\\Anomaly Detection\\Dataset\\Model\\LabelTraining.csv\")\n",
    "LabelTesting = pd.read_csv(r\"E:\\Projects\\Anomaly Detection\\Dataset\\Model\\LabelTesting.csv\")"
   ]
  },
  {
   "cell_type": "code",
   "execution_count": 30,
   "metadata": {},
   "outputs": [
    {
     "name": "stdout",
     "output_type": "stream",
     "text": [
      "\u001b[1m15123/15123\u001b[0m \u001b[32m━━━━━━━━━━━━━━━━━━━━\u001b[0m\u001b[37m\u001b[0m \u001b[1m15s\u001b[0m 979us/step\n"
     ]
    }
   ],
   "source": [
    "Precision = tf.keras.metrics.Precision()\n",
    "\n",
    "\n",
    "Predictions = Model.predict(DataTesting)"
   ]
  },
  {
   "cell_type": "code",
   "execution_count": 31,
   "metadata": {},
   "outputs": [],
   "source": [
    "BinaryPredictions = np.argmax(Predictions, axis=1)\n"
   ]
  },
  {
   "cell_type": "code",
   "execution_count": 32,
   "metadata": {},
   "outputs": [
    {
     "name": "stdout",
     "output_type": "stream",
     "text": [
      "Precision: 91.65\n"
     ]
    }
   ],
   "source": [
    "Precision.update_state(LabelTesting, BinaryPredictions)\n",
    "Score = Precision.result().numpy() *100\n",
    "PrecisionScore = round(Score,2)\n",
    "print(\"Precision:\", PrecisionScore)\n"
   ]
  },
  {
   "cell_type": "code",
   "execution_count": null,
   "metadata": {},
   "outputs": [],
   "source": []
  }
 ],
 "metadata": {
  "kernelspec": {
   "display_name": "Python 3",
   "language": "python",
   "name": "python3"
  },
  "language_info": {
   "codemirror_mode": {
    "name": "ipython",
    "version": 3
   },
   "file_extension": ".py",
   "mimetype": "text/x-python",
   "name": "python",
   "nbconvert_exporter": "python",
   "pygments_lexer": "ipython3",
   "version": "3.12.0"
  }
 },
 "nbformat": 4,
 "nbformat_minor": 2
}
